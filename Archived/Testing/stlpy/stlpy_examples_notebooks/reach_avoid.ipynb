{
 "cells": [
  {
   "cell_type": "code",
   "execution_count": 1,
   "metadata": {},
   "outputs": [
    {
     "name": "stdout",
     "output_type": "stream",
     "text": [
      "WARNING: pydrake import failed, Drake-based solvers disabled.\n",
      "         Install drake (https://drake.mit.edu/installation.html)\n",
      "         to use the Drake-based solvers.\n"
     ]
    }
   ],
   "source": [
    "import numpy as np\n",
    "import matplotlib.pyplot as plt\n",
    "\n",
    "from stlpy.benchmarks import ReachAvoid\n",
    "from stlpy.solvers import *"
   ]
  },
  {
   "cell_type": "code",
   "execution_count": 2,
   "metadata": {},
   "outputs": [],
   "source": [
    "\n",
    "# Specification Parameters\n",
    "goal_bounds = (7,8,8,9)     # (xmin, xmax, ymin, ymax)\n",
    "obstacle_bounds = (3,5,4,6)\n",
    "T = 10\n",
    "\n",
    "# Define the system and specification\n",
    "scenario = ReachAvoid(goal_bounds, obstacle_bounds, T)\n",
    "spec = scenario.GetSpecification()\n",
    "sys = scenario.GetSystem()\n",
    "\n",
    "# Specify any additional running cost (this helps the numerics in\n",
    "# a gradient-based method)\n",
    "Q = 1e-1*np.diag([0,0,1,1])   # just penalize high velocities\n",
    "R = 1e-1*np.eye(2)\n",
    "\n",
    "# Initial state\n",
    "x0 = np.array([1.0,2.0,0,0])\n"
   ]
  },
  {
   "cell_type": "code",
   "execution_count": 3,
   "metadata": {},
   "outputs": [
    {
     "name": "stdout",
     "output_type": "stream",
     "text": [
      "Set parameter Username\n",
      "Academic license - for non-commercial use only - expires 2024-11-29\n",
      "Setting up optimization problem...\n",
      "Setup complete in 0.30848193168640137 seconds.\n",
      "<class 'gurobipy.MQuadExpr'>\n",
      "Gurobi Optimizer version 10.0.3 build v10.0.3rc0 (win64)\n",
      "\n",
      "CPU model: 11th Gen Intel(R) Core(TM) i7-11800H @ 2.30GHz, instruction set [SSE2|AVX|AVX2|AVX512]\n",
      "Thread count: 8 physical cores, 16 logical processors, using up to 16 threads\n",
      "\n",
      "Optimize a model with 401 rows, 378 columns and 967 nonzeros\n",
      "Model fingerprint: 0xde19e6a7\n",
      "Model has 44 quadratic objective terms\n",
      "Variable types: 290 continuous, 88 integer (88 binary)\n",
      "Coefficient statistics:\n",
      "  Matrix range     [1e+00, 1e+03]\n",
      "  Objective range  [1e+00, 1e+00]\n",
      "  QObjective range [2e-01, 2e-01]\n",
      "  Bounds range     [1e+00, 1e+00]\n",
      "  RHS range        [1e+00, 1e+03]\n",
      "Presolve removed 283 rows and 276 columns\n",
      "Presolve time: 0.00s\n",
      "Presolved: 118 rows, 102 columns, 367 nonzeros\n",
      "Presolved model has 40 quadratic objective terms\n",
      "Variable types: 57 continuous, 45 integer (45 binary)\n",
      "Found heuristic solution: objective 15.7675874\n",
      "Found heuristic solution: objective 3.8421179\n",
      "\n",
      "Root relaxation: objective -2.000000e+00, 129 iterations, 0.00 seconds (0.00 work units)\n",
      "\n",
      "    Nodes    |    Current Node    |     Objective Bounds      |     Work\n",
      " Expl Unexpl |  Obj  Depth IntInf | Incumbent    BestBd   Gap | It/Node Time\n",
      "\n",
      "     0     0   -2.00000    0   20    3.84212   -2.00000   152%     -    0s\n",
      "     0     0   -2.00000    0   20    3.84212   -2.00000   152%     -    0s\n",
      "     0     0   -2.00000    0   18    3.84212   -2.00000   152%     -    0s\n",
      "H    0     0                       1.9582952   -2.00000   202%     -    0s\n",
      "     0     0   -1.20002    0   18    1.95830   -1.20002   161%     -    0s\n",
      "     0     0   -0.70414    0   18    1.95830   -0.70414   136%     -    0s\n",
      "     0     0    0.55623    0   24    1.95830    0.55623  71.6%     -    0s\n",
      "     0     0    0.55623    0   19    1.95830    0.55623  71.6%     -    0s\n",
      "H    0     0                       1.3106715    0.55623  57.6%     -    0s\n",
      "     0     0    0.55623    0   18    1.31067    0.55623  57.6%     -    0s\n",
      "     0     0    0.55623    0   18    1.31067    0.55623  57.6%     -    0s\n",
      "H    0     0                       0.8593693    0.55623  35.3%     -    0s\n",
      "     0     0    0.55775    0   16    0.85937    0.55775  35.1%     -    0s\n",
      "H    0     0                       0.8593693    0.55775  35.1%     -    0s\n",
      "     0     2    0.55775    0   16    0.85937    0.55775  35.1%     -    0s\n",
      "*   39    11               7       0.7727472    0.55775  27.8%   6.2    0s\n",
      "*   69     4              10       0.7171759    0.55775  22.2%   5.1    0s\n",
      "\n",
      "Cutting planes:\n",
      "  MIR: 1\n",
      "  Relax-and-lift: 1\n",
      "\n",
      "Explored 75 nodes (581 simplex iterations) in 0.06 seconds (0.01 work units)\n",
      "Thread count was 16 (of 16 available processors)\n",
      "\n",
      "Solution count 8: 0.717176 0.772747 0.859369 ... 15.7676\n",
      "\n",
      "Optimal solution found (tolerance 1.00e-04)\n",
      "Best objective 7.171759272008e-01, best bound 7.171759272008e-01, gap 0.0000%\n",
      "\n",
      "Optimal Solution Found!\n",
      "\n",
      "Solve time:  0.06599998474121094\n",
      "Optimal robustness:  0.5\n",
      "\n"
     ]
    }
   ],
   "source": [
    "\n",
    "# Choose a solver\n",
    "solver = GurobiMICPSolver(spec, sys, x0, T, robustness_cost=True)\n",
    "#solver = DrakeMICPSolver(spec, sys, x0, T, robustness_cost=True)\n",
    "#solver = DrakeSos1Solver(spec, sys, x0, T, robustness_cost=True)\n",
    "#solver = DrakeSmoothSolver(spec, sys, x0, T, k=2.0)\n",
    "#solver = ScipyGradientSolver(spec, sys, x0, T)\n",
    "\n",
    "# Set bounds on state and control variables\n",
    "u_min = np.array([-0.5,-0.5])\n",
    "u_max = np.array([0.5, 0.5])\n",
    "x_min = np.array([0.0, 0.0, -1.0, -1.0])\n",
    "x_max = np.array([10.0, 10.0, 1.0, 1.0])\n",
    "#solver.AddControlBounds(u_min, u_max)\n",
    "#solver.AddStateBounds(x_min, x_max)\n",
    "\n",
    "# Add quadratic running cost (optional)\n",
    "solver.AddQuadraticCost(Q,R)\n",
    "\n",
    "# Solve the optimization problem\n",
    "x, u, _, _ = solver.Solve()\n"
   ]
  },
  {
   "cell_type": "code",
   "execution_count": 4,
   "metadata": {},
   "outputs": [
    {
     "data": {
      "image/png": "[encoded data removed]",
      "text/plain": [
       "<Figure size 640x480 with 1 Axes>"
      ]
     },
     "metadata": {},
     "output_type": "display_data"
    }
   ],
   "source": [
    "\n",
    "if x is not None:\n",
    "    # Plot the solution\n",
    "    ax = plt.gca()\n",
    "    scenario.add_to_plot(ax)\n",
    "    plt.scatter(*x[:2,:])\n",
    "    plt.show()"
   ]
  }
 ],
 "metadata": {
  "kernelspec": {
   "display_name": "base",
   "language": "python",
   "name": "python3"
  },
  "language_info": {
   "codemirror_mode": {
    "name": "ipython",
    "version": 3
   },
   "file_extension": ".py",
   "mimetype": "text/x-python",
   "name": "python",
   "nbconvert_exporter": "python",
   "pygments_lexer": "ipython3",
   "version": "3.9.12"
  }
 },
 "nbformat": 4,
 "nbformat_minor": 2
}
