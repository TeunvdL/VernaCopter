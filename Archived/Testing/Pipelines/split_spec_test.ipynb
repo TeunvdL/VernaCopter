{
 "cells": [
  {
   "cell_type": "code",
   "execution_count": 1,
   "metadata": {},
   "outputs": [
    {
     "name": "stdout",
     "output_type": "stream",
     "text": [
      "WARNING: pydrake import failed, Drake-based solvers disabled.\n",
      "         Install drake (https://drake.mit.edu/installation.html)\n",
      "         to use the Drake-based solvers.\n"
     ]
    }
   ],
   "source": [
    "from STL_to_path import *\n",
    "from GPT import *\n",
    "from NL_to_STL import *\n",
    "from visualization import *"
   ]
  },
  {
   "cell_type": "code",
   "execution_count": 2,
   "metadata": {},
   "outputs": [],
   "source": [
    "\n",
    "T_max = 10          # time horizon in seconds \n",
    "dt = 0.5            # time step in seconds\n",
    "N = int(T_max/dt)   # number of time steps\n",
    "max_acc = 50        # maximum acceleration in m/s^2\n",
    "max_speed = 1       # maximum speed in m/s\n",
    "\n",
    "objects = {\"goal1\": (4, 6, 4, 6, 4, 6),\n",
    "           \"goal2\": (-5, -4, -5, -4, -5, -4),\n",
    "           \"goal3\": (-6, -5, 4, 5, 4, 5),\n",
    "           \"obstacle1\": (-1.5, -0.5, -1.5, -0.5, -1.5, -0.5),\n",
    "           \"obstacle2\": (1.0, 2.0, 1.0, 2.0, 1.5, 2.5),\n",
    "           \"obstacle3\": (1.0, 2.0, 0.0, 1.0, -1.0, 1.0),}\n",
    "\n",
    "x0 = np.array([0.,0.,0.,0.,0.,0.]) # initial state: x, y, z, vx, vy, vz\n"
   ]
  },
  {
   "cell_type": "code",
   "execution_count": 3,
   "metadata": {},
   "outputs": [
    {
     "name": "stdout",
     "output_type": "stream",
     "text": [
      "Instructions:  You are an assistant guiding a drone to perform an instruction specified by a user.\n",
      "Your task is to take the user's instruction and translate it into a specification in Signal Temporal Logic (STL).\n",
      "You are provided with a dictionary of objects in the scene, the available Logic functions, and Logic operators that you can use in your generated STL specification. All of these are provided below.\n",
      "\n",
      "Objects:\n",
      "{'goal1': (4, 6, 4, 6, 4, 6), 'goal2': (-5, -4, -5, -4, -5, -4), 'goal3': (-6, -5, 4, 5, 4, 5), 'obstacle1': (-1.5, -0.5, -1.5, -0.5, -1.5, -0.5), 'obstacle2': (1.0, 2.0, 1.0, 2.0, 1.5, 2.5), 'obstacle3': (1.0, 2.0, 0.0, 1.0, -1.0, 1.0)}\n",
      "\n",
      "Logic functions: \n",
      "\"STL_formulas.inside_cuboid(object)\", \"STL_formulas.outside_cuboid(object)\"\n",
      "\n",
      "Logic operators:\n",
      "\"&\", \"|\"\n",
      "\n",
      "STL specifications are represented as Python objects. some temporal functions operate on these obects. The syntax is like \"specification.function()\"\n",
      "The available temporal functions are shown below.\n",
      "\n",
      "Temporal functions:\n",
      "\"eventually(t1, t2)\", \"always(t1, t2)\", \"until(other, t1, t2)\"\n",
      "\n",
      "A time horizon is also provided, which is the maximum time that the solver considers. Do not use a value for time larger than that value. You are allowed to use smaller values.\n",
      "Time horizon (maximum time for solver): 10\n",
      "\n",
      "Please note that every specification requires a temporal function to operate on it: \n",
      "\"STL_formulas.inside_cuboid(objects[\"goal1\"]).eventually(0, 5)\" will work, but \"STL_formulas.inside_cuboid(objects[\"goal1\"])\" won't.\n",
      "\n",
      "Make sure that you return the final specification between \"<\" and \">\" brackets so that the system can extract the specification succesfully.\n",
      "\n",
      "An example of a user input and the appropriate response is shown below:\n",
      "User: The drone should reach the goal and avoid the obstacle. Response: <STL_formulas.inside_cuboid(objects[\"goal\"]).eventually(0, 10) & STL_formulas.outside_cuboid(objects[\"obstacle\"]).always(0, 10)>\n",
      "\n",
      "In some cases the task can be split into parts that can be executed sequentially. Please make sure to split the problems in as small parts as possible. Do note that each part is solved with the aforementioned time horizon and starts at time 0.\n",
      "An example is shown below.\n",
      "User: The drone should go to goal 1 and then goal 2 and avoid the obstacle. Response: <STL_formulas.inside_cuboid(objects[\"goal1\"]).eventually(0, 10) & STL_formulas.outside_cuboid(objects[\"obstacle\"]).always(0, 10)> <STL_formulas.inside_cuboid(objects[\"goal2\"]).eventually(0, 10) & STL_formulas.outside_cuboid(objects[\"obstacle\"]).always(0, 10)>\n",
      "GPT response:  <STL_formulas.inside_cuboid(objects[\"goal1\"]).eventually(0, 5) & STL_formulas.inside_cuboid(objects[\"goal2\"]).eventually(5, 10)>\n",
      "specs:  ['STL_formulas.inside_cuboid(objects[\"goal1\"]).eventually(0, 5) & STL_formulas.inside_cuboid(objects[\"goal2\"]).eventually(5, 10)']\n"
     ]
    }
   ],
   "source": [
    "\n",
    "user_input = [{\"role\": \"user\", \"content\": \"Go to goal 1 and then to goal 2.\"},]\n",
    "\n",
    "\n",
    "translator = NL_to_STL(objects, T_max, dt, print_instructions=True)\n",
    "specs = translator.extract_specs(user_input)\n",
    "print(\"specs: \", specs)\n"
   ]
  },
  {
   "cell_type": "code",
   "execution_count": null,
   "metadata": {},
   "outputs": [],
   "source": [
    "def generate_trajectories(self, dt, max_acc, max_speed, verbose = False):\n",
    "    self.dt = dt\n",
    "    self.max_acc = max_acc\n",
    "    self.max_speed = max_speed\n",
    "    self.verbose = verbose\n",
    "    N = int(self.T/self.dt)\n",
    "    N_specs = len(self.specs)\n",
    "\n",
    "    all_x = np.zeros((6, N_specs*(N+1)))\n",
    "    all_u = np.zeros((3, N_specs*(N+1)))\n",
    "\n",
    "    x0 = self.x0\n",
    "    for i in range(N_specs):\n",
    "        x, u = self.generate_trajectory(eval(self.specs[i]), x0)\n",
    "        all_x[:,i*(N+1):(i+1)*(N+1)] = x\n",
    "        all_u[:,i*(N+1):(i+1)*(N+1)] = u\n",
    "        x0 = x[:,-1]\n",
    "        print(\"x0: \", x0)\n",
    "\n",
    "    return all_x, all_u"
   ]
  },
  {
   "cell_type": "code",
   "execution_count": 4,
   "metadata": {},
   "outputs": [
    {
     "name": "stdout",
     "output_type": "stream",
     "text": [
      "Set parameter Username\n",
      "Academic license - for non-commercial use only - expires 2024-11-29\n",
      "Setting up optimization problem...\n",
      "Setup complete in 0.4175705909729004 seconds.\n",
      "<class 'gurobipy.MQuadExpr'>\n",
      "Gurobi Optimizer version 10.0.3 build v10.0.3rc0 (win64)\n",
      "\n",
      "CPU model: 11th Gen Intel(R) Core(TM) i7-11800H @ 2.30GHz, instruction set [SSE2|AVX|AVX2|AVX512]\n",
      "Thread count: 8 physical cores, 16 logical processors, using up to 16 threads\n",
      "\n",
      "Optimize a model with 900 rows, 523 columns and 1553 nonzeros\n",
      "Model fingerprint: 0x06e47465\n",
      "Model has 63 quadratic objective terms\n",
      "Variable types: 451 continuous, 72 integer (72 binary)\n",
      "Coefficient statistics:\n",
      "  Matrix range     [5e-01, 1e+03]\n",
      "  Objective range  [1e+00, 1e+00]\n",
      "  QObjective range [2e+00, 2e+00]\n",
      "  Bounds range     [1e+00, 1e+00]\n",
      "  RHS range        [1e+00, 1e+100]\n",
      "Warning: Model contains large rhs\n",
      "         Consider reformulating model or setting NumericFocus parameter\n",
      "         to avoid numerical issues.\n",
      "Presolve removed 590 rows and 220 columns\n",
      "Presolve time: 0.00s\n",
      "\n",
      "Explored 0 nodes (0 simplex iterations) in 0.03 seconds (0.00 work units)\n",
      "Thread count was 1 (of 16 available processors)\n",
      "\n",
      "Solution count 0\n",
      "\n",
      "Model is infeasible or unbounded\n",
      "Best objective -, best bound -, gap -\n",
      "\n",
      "Optimization failed with status 4.\n",
      "\n"
     ]
    },
    {
     "ename": "TypeError",
     "evalue": "'NoneType' object is not subscriptable",
     "output_type": "error",
     "traceback": [
      "\u001b[1;31m---------------------------------------------------------------------------\u001b[0m",
      "\u001b[1;31mTypeError\u001b[0m                                 Traceback (most recent call last)",
      "Cell \u001b[1;32mIn[4], line 3\u001b[0m\n\u001b[0;32m      1\u001b[0m solver \u001b[38;5;241m=\u001b[39m STLSolver(specs, objects, x0, T_max)\n\u001b[1;32m----> 3\u001b[0m x,u \u001b[38;5;241m=\u001b[39m \u001b[43msolver\u001b[49m\u001b[38;5;241;43m.\u001b[39;49m\u001b[43mgenerate_trajectories\u001b[49m\u001b[43m(\u001b[49m\u001b[43mdt\u001b[49m\u001b[43m,\u001b[49m\u001b[43m \u001b[49m\u001b[43mmax_acc\u001b[49m\u001b[43m,\u001b[49m\u001b[43m \u001b[49m\u001b[43mmax_speed\u001b[49m\u001b[43m,\u001b[49m\u001b[43m \u001b[49m\u001b[43mverbose\u001b[49m\u001b[38;5;241;43m=\u001b[39;49m\u001b[38;5;28;43;01mTrue\u001b[39;49;00m\u001b[43m)\u001b[49m\n\u001b[0;32m      5\u001b[0m \u001b[38;5;28mprint\u001b[39m(\u001b[38;5;124m\"\u001b[39m\u001b[38;5;124mx: \u001b[39m\u001b[38;5;124m\"\u001b[39m, x)\n\u001b[0;32m      7\u001b[0m \u001b[38;5;28mprint\u001b[39m(\u001b[38;5;124m\"\u001b[39m\u001b[38;5;124mu: \u001b[39m\u001b[38;5;124m\"\u001b[39m, u)\n",
      "File \u001b[1;32mc:\\Users\\iteun\\OneDrive - TU Eindhoven\\UNI\\Year 7\\Q2\\Final project\\Code\\ChatGPT-Drone-Control\\Pipeline_TL\\STL_to_path.py:97\u001b[0m, in \u001b[0;36mSTLSolver.generate_trajectories\u001b[1;34m(self, dt, max_acc, max_speed, verbose)\u001b[0m\n\u001b[0;32m     95\u001b[0m     all_x[:,i\u001b[38;5;241m*\u001b[39m(N\u001b[38;5;241m+\u001b[39m\u001b[38;5;241m1\u001b[39m):(i\u001b[38;5;241m+\u001b[39m\u001b[38;5;241m1\u001b[39m)\u001b[38;5;241m*\u001b[39m(N\u001b[38;5;241m+\u001b[39m\u001b[38;5;241m1\u001b[39m)] \u001b[38;5;241m=\u001b[39m x\n\u001b[0;32m     96\u001b[0m     all_u[:,i\u001b[38;5;241m*\u001b[39m(N\u001b[38;5;241m+\u001b[39m\u001b[38;5;241m1\u001b[39m):(i\u001b[38;5;241m+\u001b[39m\u001b[38;5;241m1\u001b[39m)\u001b[38;5;241m*\u001b[39m(N\u001b[38;5;241m+\u001b[39m\u001b[38;5;241m1\u001b[39m)] \u001b[38;5;241m=\u001b[39m u\n\u001b[1;32m---> 97\u001b[0m     x0 \u001b[38;5;241m=\u001b[39m \u001b[43mx\u001b[49m\u001b[43m[\u001b[49m\u001b[43m:\u001b[49m\u001b[43m,\u001b[49m\u001b[38;5;241;43m-\u001b[39;49m\u001b[38;5;241;43m1\u001b[39;49m\u001b[43m]\u001b[49m\n\u001b[0;32m     98\u001b[0m     \u001b[38;5;28mprint\u001b[39m(\u001b[38;5;124m\"\u001b[39m\u001b[38;5;124mx0: \u001b[39m\u001b[38;5;124m\"\u001b[39m, x0)\n\u001b[0;32m    100\u001b[0m \u001b[38;5;28;01mreturn\u001b[39;00m all_x, all_u\n",
      "\u001b[1;31mTypeError\u001b[0m: 'NoneType' object is not subscriptable"
     ]
    }
   ],
   "source": [
    "\n",
    "solver = STLSolver(specs, objects, x0, T_max)\n",
    "\n",
    "x,u = solver.generate_trajectories(dt, max_acc, max_speed, verbose=True)\n",
    "\n",
    "print(\"x: \", x)\n",
    "\n",
    "print(\"u: \", u)\n"
   ]
  },
  {
   "cell_type": "code",
   "execution_count": null,
   "metadata": {},
   "outputs": [],
   "source": [
    "\n",
    "animate = False\n",
    "visualizer = Visualization(x, objects, animate=animate)\n",
    "\n",
    "if animate:\n",
    "    gif_name = input(\"Enter name of GIF file: \")\n",
    "    visualizer.animate_trajectory(gif_name + \".gif\")\n",
    "\n",
    "visualizer.visualize()\n",
    "visualizer.plot_distance_to_objects()\n",
    "\n",
    "plt.show()"
   ]
  }
 ],
 "metadata": {
  "kernelspec": {
   "display_name": "base",
   "language": "python",
   "name": "python3"
  },
  "language_info": {
   "codemirror_mode": {
    "name": "ipython",
    "version": 3
   },
   "file_extension": ".py",
   "mimetype": "text/x-python",
   "name": "python",
   "nbconvert_exporter": "python",
   "pygments_lexer": "ipython3",
   "version": "3.9.12"
  }
 },
 "nbformat": 4,
 "nbformat_minor": 2
}
