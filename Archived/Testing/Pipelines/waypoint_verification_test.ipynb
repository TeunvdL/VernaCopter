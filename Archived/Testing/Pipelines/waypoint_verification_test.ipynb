{
 "cells": [
  {
   "cell_type": "code",
   "execution_count": 1,
   "metadata": {},
   "outputs": [],
   "source": [
    "import numpy as np\n",
    "from scenarios import *\n",
    "import matplotlib.pyplot as plt"
   ]
  },
  {
   "cell_type": "code",
   "execution_count": 3,
   "metadata": {},
   "outputs": [],
   "source": [
    "scenario_name = \"treasure_hunt\" # \"reach_avoid\", \"narrow_maze\", \"treasure_hunt\"\n",
    "scenario = Scenarios(scenario_name)\n",
    "objects = scenario.objects\n",
    "x0 = scenario.starting_state"
   ]
  },
  {
   "cell_type": "code",
   "execution_count": 4,
   "metadata": {},
   "outputs": [
    {
     "data": {
      "text/plain": [
       "{'door_key': (3.75, 4.75, 3.75, 4.75, 1.0, 2.0),\n",
       " 'chest': (-4.25, -3, -4.5, -3.75, 0.0, 0.75),\n",
       " 'door': (0.0, 0.5, -2.5, -1, 0.0, 2.5),\n",
       " 'region_bounds': (-5.0, 5.0, -5.0, 5.0, 0.0, 3.0),\n",
       " 'NE_inside_wall': (2.0, 5.0, 3.0, 3.5, 0.0, 3.0),\n",
       " 'south_mid_inside_wall': (0.0, 0.5, -5.0, -2.5, 0.0, 3.0),\n",
       " 'north_mid_inside_wall': (0.0, 0.5, -1.0, 5.0, 0.0, 3.0),\n",
       " 'west_inside_wall': (-2.25, -1.75, -5.0, 3.5, 0.0, 3.0),\n",
       " 'above_door_wall': (0.0, 0.5, -2.5, -1, 2.5, 3.0)}"
      ]
     },
     "execution_count": 4,
     "metadata": {},
     "output_type": "execute_result"
    }
   ],
   "source": [
    "objects"
   ]
  },
  {
   "cell_type": "code",
   "execution_count": 5,
   "metadata": {},
   "outputs": [
    {
     "data": {
      "text/plain": [
       "(6, 51)"
      ]
     },
     "execution_count": 5,
     "metadata": {},
     "output_type": "execute_result"
    }
   ],
   "source": [
    "# open x from a file\n",
    "x = np.load('data.npy')[0]\n",
    "x.shape"
   ]
  },
  {
   "cell_type": "code",
   "execution_count": 6,
   "metadata": {},
   "outputs": [],
   "source": [
    "# function to check if a point is inside an object\n",
    "def is_inside(point, object):\n",
    "    x, y, z = point[:3]\n",
    "    xmin, xmax, ymin, ymax, zmin, zmax = object\n",
    "    inside_boolean = x >= xmin and x <= xmax and y >= ymin and y <= ymax and z >= zmin and z <= zmax\n",
    "    return inside_boolean*1"
   ]
  },
  {
   "cell_type": "code",
   "execution_count": 7,
   "metadata": {},
   "outputs": [],
   "source": [
    "# array with all the points and the objects they are inside\n",
    "T = x.shape[1]\n",
    "N = len(objects)\n",
    "inside_array = np.zeros((N,T))\n",
    "for i, object in enumerate(objects.values()):\n",
    "    for j in range(T):\n",
    "        inside_array[i,j] = is_inside(x[:3,j], object)"
   ]
  },
  {
   "cell_type": "code",
   "execution_count": 8,
   "metadata": {},
   "outputs": [
    {
     "data": {
      "image/png": "[encoded data removed]",
      "text/plain": [
       "<Figure size 640x480 with 2 Axes>"
      ]
     },
     "metadata": {},
     "output_type": "display_data"
    }
   ],
   "source": [
    "# Show black and white image of the points inside the objects\n",
    "plt.imshow(inside_array, aspect='auto', cmap='gray')\n",
    "plt.xlabel('Time step')\n",
    "plt.yticks(range(N), objects.keys())\n",
    "\n",
    "cbar = plt.colorbar()\n",
    "cbar.set_ticks([0., 1.])\n",
    "cbar.set_ticklabels(['False', 'True'])\n",
    "\n",
    "#show lines between the objects\n",
    "for i in range(N-1):\n",
    "     plt.axhline(i+0.5, color='gray', linewidth=0.5)\n",
    "# show vertical lines for every 5 time steps\n",
    "for i in range(0,T,5):\n",
    "    plt.axvline(i, color='gray', linewidth=0.5)\n",
    "\n",
    "plt.show()"
   ]
  },
  {
   "cell_type": "code",
   "execution_count": 24,
   "metadata": {},
   "outputs": [
    {
     "data": {
      "text/plain": [
       "{'door_key': array([0., 0., 0., 0., 0., 0., 0., 0., 0., 0., 0., 0., 0., 0., 0., 0., 0.,\n",
       "        0., 0., 0., 0., 0., 0., 0., 0., 0., 0., 0., 0., 0., 0., 0., 0., 0.,\n",
       "        0., 0., 0., 0., 0., 0., 0., 0., 0., 0., 0., 0., 0., 0., 0., 0., 0.]),\n",
       " 'chest': array([0., 0., 0., 0., 0., 0., 0., 0., 0., 0., 0., 0., 0., 0., 0., 0., 0.,\n",
       "        0., 0., 0., 0., 0., 0., 0., 0., 0., 0., 0., 0., 0., 0., 0., 0., 0.,\n",
       "        0., 0., 0., 0., 0., 0., 0., 0., 0., 0., 0., 0., 0., 0., 0., 0., 1.]),\n",
       " 'door': array([0., 0., 0., 0., 0., 0., 0., 0., 0., 0., 0., 0., 0., 0., 0., 0., 0.,\n",
       "        0., 0., 0., 0., 0., 0., 1., 1., 1., 1., 1., 0., 0., 0., 0., 0., 0.,\n",
       "        0., 0., 0., 0., 0., 0., 0., 0., 0., 0., 0., 0., 0., 0., 0., 0., 0.]),\n",
       " 'region_bounds': array([1., 1., 1., 1., 1., 1., 1., 1., 1., 1., 1., 1., 1., 1., 1., 1., 1.,\n",
       "        1., 1., 1., 1., 1., 1., 1., 1., 1., 1., 1., 1., 1., 1., 1., 1., 1.,\n",
       "        1., 1., 1., 1., 1., 1., 1., 1., 1., 1., 1., 1., 1., 1., 1., 1., 1.]),\n",
       " 'NE_inside_wall': array([0., 0., 0., 0., 0., 0., 0., 0., 0., 0., 0., 0., 0., 0., 0., 0., 0.,\n",
       "        0., 0., 0., 0., 0., 0., 0., 0., 0., 0., 0., 0., 0., 0., 0., 0., 0.,\n",
       "        0., 0., 0., 0., 0., 0., 0., 0., 0., 0., 0., 0., 0., 0., 0., 0., 0.]),\n",
       " 'south_mid_inside_wall': array([0., 0., 0., 0., 0., 0., 0., 0., 0., 0., 0., 0., 0., 0., 0., 0., 0.,\n",
       "        0., 0., 0., 0., 0., 0., 0., 0., 0., 0., 0., 0., 0., 0., 0., 0., 0.,\n",
       "        0., 0., 0., 0., 0., 0., 0., 0., 0., 0., 0., 0., 0., 0., 0., 0., 0.]),\n",
       " 'north_mid_inside_wall': array([0., 0., 0., 0., 0., 0., 0., 0., 0., 0., 0., 0., 0., 0., 0., 0., 0.,\n",
       "        0., 0., 0., 0., 0., 0., 0., 0., 0., 0., 0., 0., 0., 0., 0., 0., 0.,\n",
       "        0., 0., 0., 0., 0., 0., 0., 0., 0., 0., 0., 0., 0., 0., 0., 0., 0.]),\n",
       " 'west_inside_wall': array([0., 0., 0., 0., 0., 0., 0., 0., 0., 0., 0., 0., 0., 0., 0., 0., 0.,\n",
       "        0., 0., 0., 0., 0., 0., 0., 0., 0., 0., 0., 0., 0., 0., 0., 0., 0.,\n",
       "        0., 0., 0., 0., 0., 0., 0., 0., 0., 0., 0., 0., 0., 0., 0., 0., 0.]),\n",
       " 'above_door_wall': array([0., 0., 0., 0., 0., 0., 0., 0., 0., 0., 0., 0., 0., 0., 0., 0., 0.,\n",
       "        0., 0., 0., 0., 0., 0., 0., 0., 0., 0., 0., 0., 0., 0., 0., 0., 0.,\n",
       "        0., 0., 0., 0., 0., 0., 0., 0., 0., 0., 0., 0., 0., 0., 0., 0., 0.])}"
      ]
     },
     "execution_count": 24,
     "metadata": {},
     "output_type": "execute_result"
    }
   ],
   "source": [
    "objects_inside = {}\n",
    "for i, object in enumerate(objects.keys()):\n",
    "    objects_inside[object] = inside_array[i,:]\n",
    "objects_inside"
   ]
  },
  {
   "cell_type": "code",
   "execution_count": 51,
   "metadata": {},
   "outputs": [],
   "source": [
    "def task_accomplished(objects, inside_array, scenario_name):\n",
    "\n",
    "    objects_inside = {}\n",
    "    for i, object in enumerate(objects.keys()):\n",
    "        objects_inside[object] = inside_array[i,:]\n",
    "    objects_inside\n",
    "\n",
    "    if scenario_name == \"reach_avoid\":\n",
    "        pass\n",
    "    elif scenario_name == \"narrow_maze\":\n",
    "        pass\n",
    "    elif scenario_name == \"treasure_hunt\":\n",
    "        # test if chest is reached\n",
    "        chest_reached = 1 in objects_inside['chest']\n",
    "        \n",
    "        # test if all the walls are avoided\n",
    "        walls_avoided = True\n",
    "        for object in objects.keys():\n",
    "            if 'wall' in object:\n",
    "                wall_crossed = 1 in objects_inside[object]\n",
    "                if wall_crossed: walls_avoided = False\n",
    "\n",
    "        # test if the door is crossed before the key is reached\n",
    "        key_time = np.where(objects_inside['door_key'] == 1)[0]\n",
    "        if key_time.size != 0:\n",
    "            key_crossed = True\n",
    "            key_time = key_time[0]\n",
    "        else: \n",
    "            key_crossed = False\n",
    "\n",
    "        door_time = np.where(objects_inside['door'] == 1)[0]\n",
    "        if door_time.size != 0:\n",
    "            door_crossed = True\n",
    "            door_time = door_time[0]\n",
    "        else:\n",
    "            door_crossed = False\n",
    "\n",
    "        door_before_key = door_crossed and key_crossed and door_time < key_time\n",
    "\n",
    "        return chest_reached and walls_avoided and not door_before_key"
   ]
  },
  {
   "cell_type": "code",
   "execution_count": 52,
   "metadata": {},
   "outputs": [
    {
     "data": {
      "text/plain": [
       "True"
      ]
     },
     "execution_count": 52,
     "metadata": {},
     "output_type": "execute_result"
    }
   ],
   "source": [
    "task_accomplished(objects, inside_array, scenario_name)"
   ]
  },
  {
   "cell_type": "code",
   "execution_count": null,
   "metadata": {},
   "outputs": [],
   "source": []
  }
 ],
 "metadata": {
  "kernelspec": {
   "display_name": "base",
   "language": "python",
   "name": "python3"
  },
  "language_info": {
   "codemirror_mode": {
    "name": "ipython",
    "version": 3
   },
   "file_extension": ".py",
   "mimetype": "text/x-python",
   "name": "python",
   "nbconvert_exporter": "python",
   "pygments_lexer": "ipython3",
   "version": "3.10.14"
  }
 },
 "nbformat": 4,
 "nbformat_minor": 2
}
