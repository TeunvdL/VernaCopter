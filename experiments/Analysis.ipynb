{
 "cells": [
  {
   "cell_type": "code",
   "execution_count": 1,
   "metadata": {},
   "outputs": [],
   "source": [
    "import os\n",
    "import json\n",
    "import pandas as pd"
   ]
  },
  {
   "cell_type": "code",
   "execution_count": 2,
   "metadata": {},
   "outputs": [],
   "source": [
    "# path to the directory where the files are stored\n",
    "path = 'C:/Users/iteun/OneDrive - TU Eindhoven/UNI/Year 7/Q2/Final project/Code/ChatGPT-Drone-Control/Pipeline_TL/experiments/reach_avoid/'\n",
    "# get all experiment ids\n",
    "experiment_ids = [filename.split('_')[0] for filename in os.listdir(path) if filename.endswith('_messages.json')]\n"
   ]
  },
  {
   "cell_type": "code",
   "execution_count": 3,
   "metadata": {},
   "outputs": [],
   "source": [
    "# make a dictionary with messages dictionaries from files\n",
    "message_files = {}\n",
    "metadata_files = {}\n",
    "for id in experiment_ids:\n",
    "    with open(path + id + '_messages.json', 'r') as file:\n",
    "        message_files[id] = json.load(file)\n",
    "    with open(path + id + '_METADATA.json', 'r') as file:\n",
    "        metadata_files[id] = json.load(file)"
   ]
  },
  {
   "cell_type": "code",
   "execution_count": 4,
   "metadata": {},
   "outputs": [],
   "source": [
    "# find and count number of user messages\n",
    "user_message_counts = {}\n",
    "for file_number in experiment_ids:\n",
    "    count = 0\n",
    "    for message in message_files[file_number]:\n",
    "        if message['role'] == 'user':\n",
    "            count += 1\n",
    "    user_message_counts[file_number] = count"
   ]
  },
  {
   "cell_type": "code",
   "execution_count": 5,
   "metadata": {},
   "outputs": [
    {
     "data": {
      "text/html": [
       "<div>\n",
       "<style scoped>\n",
       "    .dataframe tbody tr th:only-of-type {\n",
       "        vertical-align: middle;\n",
       "    }\n",
       "\n",
       "    .dataframe tbody tr th {\n",
       "        vertical-align: top;\n",
       "    }\n",
       "\n",
       "    .dataframe thead th {\n",
       "        text-align: right;\n",
       "    }\n",
       "</style>\n",
       "<table border=\"1\" class=\"dataframe\">\n",
       "  <thead>\n",
       "    <tr style=\"text-align: right;\">\n",
       "      <th></th>\n",
       "      <th>experiment_id</th>\n",
       "      <th>scenario_name</th>\n",
       "      <th>task_accomplished</th>\n",
       "      <th>user_message_count</th>\n",
       "      <th>GPT_version</th>\n",
       "      <th>syntax_checker_enabled</th>\n",
       "      <th>spec_checker_enabled</th>\n",
       "      <th>dynamicless_check_enabled</th>\n",
       "      <th>manual_spec_check_enabled</th>\n",
       "      <th>manual_trajectory_check_enabled</th>\n",
       "      <th>syntax_check_limit</th>\n",
       "      <th>spec_check_limit</th>\n",
       "      <th>max_acc</th>\n",
       "      <th>max_speed</th>\n",
       "      <th>T_initial</th>\n",
       "      <th>dt</th>\n",
       "    </tr>\n",
       "  </thead>\n",
       "  <tbody>\n",
       "    <tr>\n",
       "      <th>0</th>\n",
       "      <td>1</td>\n",
       "      <td>reach_avoid</td>\n",
       "      <td>True</td>\n",
       "      <td>2</td>\n",
       "      <td>gpt-3.5-turbo</td>\n",
       "      <td>False</td>\n",
       "      <td>False</td>\n",
       "      <td>False</td>\n",
       "      <td>True</td>\n",
       "      <td>True</td>\n",
       "      <td>5</td>\n",
       "      <td>5</td>\n",
       "      <td>10</td>\n",
       "      <td>0.5</td>\n",
       "      <td>25</td>\n",
       "      <td>0.7</td>\n",
       "    </tr>\n",
       "  </tbody>\n",
       "</table>\n",
       "</div>"
      ],
      "text/plain": [
       "  experiment_id scenario_name  task_accomplished  user_message_count  \\\n",
       "0             1   reach_avoid               True                   2   \n",
       "\n",
       "     GPT_version  syntax_checker_enabled  spec_checker_enabled  \\\n",
       "0  gpt-3.5-turbo                   False                 False   \n",
       "\n",
       "   dynamicless_check_enabled  manual_spec_check_enabled  \\\n",
       "0                      False                       True   \n",
       "\n",
       "   manual_trajectory_check_enabled  syntax_check_limit  spec_check_limit  \\\n",
       "0                             True                   5                 5   \n",
       "\n",
       "   max_acc  max_speed  T_initial   dt  \n",
       "0       10        0.5         25  0.7  "
      ]
     },
     "execution_count": 5,
     "metadata": {},
     "output_type": "execute_result"
    }
   ],
   "source": [
    "table = []\n",
    "for file_number in experiment_ids:\n",
    "    row = [file_number]\n",
    "    for key, value in metadata_files[file_number].items():\n",
    "        row.append(value)\n",
    "    table.append(row)\n",
    "\n",
    "table = pd.DataFrame(table, columns=['experiment_id'] + list(metadata_files[experiment_ids[0]].keys()))\n",
    "table['user_message_count'] = table['experiment_id'].astype(str).map(user_message_counts)\n",
    "table = table.sort_values('experiment_id')\n",
    "table"
   ]
  }
 ],
 "metadata": {
  "kernelspec": {
   "display_name": "droneGPT_env",
   "language": "python",
   "name": "python3"
  },
  "language_info": {
   "codemirror_mode": {
    "name": "ipython",
    "version": 3
   },
   "file_extension": ".py",
   "mimetype": "text/x-python",
   "name": "python",
   "nbconvert_exporter": "python",
   "pygments_lexer": "ipython3",
   "version": "3.10.14"
  }
 },
 "nbformat": 4,
 "nbformat_minor": 2
}
