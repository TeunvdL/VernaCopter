{
 "cells": [
  {
   "cell_type": "code",
   "execution_count": 24,
   "metadata": {},
   "outputs": [],
   "source": [
    "import numpy as np\n",
    "from IPython.display import Markdown\n",
    "from GPT import *\n",
    "from STL_to_path import *"
   ]
  },
  {
   "cell_type": "code",
   "execution_count": 25,
   "metadata": {},
   "outputs": [],
   "source": [
    "instructions = open('chatgpt_instructions.txt', 'r').read()"
   ]
  },
  {
   "cell_type": "code",
   "execution_count": 3,
   "metadata": {},
   "outputs": [
    {
     "data": {
      "text/markdown": [
       "You are an assistant guiding a drone to perform an instruction specified by a user.\n",
       "Your task is to take the user's instruction and translate it into a specification in Signal Temporal Logic (STL).\n",
       "You will be provided with a dictionary of objects in the scene, a list of available python functions, and STL operators that you can use in your generated STL specification.\n",
       "\n",
       "Objects:\n",
       "OBJECTS\n",
       "\n",
       "Python functions: \n",
       "FUNCTIONS\n",
       "\n",
       "STL operators:\n",
       "STL_OPERATORS\n",
       "\n",
       "STL specifications are represented as Python objects. some functions operate on these obects. The syntax is like \"specification.function()\"\n",
       "A list of available operators is shown below.\n",
       "\n",
       "STL functions:\n",
       "STL_FUNCTIONS\n",
       "\n",
       "Make sure that you return the final specification between \"<\" and \">\" symbols so that the system can extract the specification succesfully.\n",
       "\n",
       "Some examples of user inputs and appropriate responses are shown below:\n",
       "User: The drone should reach goal 1 and avoid obstacles. Response: <STL_formulas.inside_cuboid(objects[\"goal1\"]).eventually(0, T) & STL_formulas.outside_cuboid(objects[\"obstacle\"]).always(0, T)>"
      ],
      "text/plain": [
       "<IPython.core.display.Markdown object>"
      ]
     },
     "metadata": {},
     "output_type": "display_data"
    }
   ],
   "source": [
    "instructions = load_chatgpt_instructions()\n",
    "display(Markdown(instructions))"
   ]
  },
  {
   "cell_type": "code",
   "execution_count": 13,
   "metadata": {},
   "outputs": [],
   "source": [
    "T = 10\n",
    "\n",
    "objects = {\"goal1\": (4, 5, 4, 5, 4, 5),\n",
    "           \"goal2\": (-5, -4, -5, -4, -5, -4),\n",
    "           \"goal3\": (-6,-5,-5,-4,-5,-4),\n",
    "           \"obstacle\": (-1.5, -0.5, -1.5, -0.5, -1.5, -0.5)}\n",
    "\n",
    "functions = [\"STL_formulas.inside_cuboid(object)\",\n",
    "             \"STL_formulas.outside_cuboid(object)\"]\n",
    "\n",
    "STL_operators = [\"&\", \"|\"]\n",
    "\n",
    "STL_functions = [\"eventually(T1, T2)\", \"always(T1, T2)\"]"
   ]
  },
  {
   "cell_type": "code",
   "execution_count": 14,
   "metadata": {},
   "outputs": [
    {
     "data": {
      "text/plain": [
       "(4, 5, 4, 5, 4, 5)"
      ]
     },
     "execution_count": 14,
     "metadata": {},
     "output_type": "execute_result"
    }
   ],
   "source": [
    "objects[\"goal1\"]"
   ]
  },
  {
   "cell_type": "code",
   "execution_count": 15,
   "metadata": {},
   "outputs": [],
   "source": [
    "# Insert objects, functions, STL operators, and STL functions into instructions\n",
    "def insert_objects_functions_STL_operators_STL_functions(instructions):\n",
    "    instructions = instructions.replace(\"OBJECTS\", str(objects))\n",
    "    instructions = instructions.replace(\"FUNCTIONS\", str(functions))\n",
    "    instructions = instructions.replace(\"STL_OPERATORS\", str(STL_operators))\n",
    "    instructions = instructions.replace(\"STL_FUNCTIONS\", str(STL_functions))\n",
    "    return instructions"
   ]
  },
  {
   "cell_type": "code",
   "execution_count": 16,
   "metadata": {},
   "outputs": [
    {
     "data": {
      "text/markdown": [
       "You are an assistant guiding a drone to perform an instruction specified by a user.\n",
       "Your task is to take the user's instruction and translate it into a specification in Signal Temporal Logic (STL).\n",
       "You will be provided with a dictionary of objects in the scene, a list of available python functions, and STL operators that you can use in your generated STL specification.\n",
       "\n",
       "Objects:\n",
       "{'goal1': (4, 5, 4, 5, 4, 5), 'goal2': (-5, -4, -5, -4, -5, -4), 'goal3': (-6, -5, -5, -4, -5, -4), 'obstacle': (-1.5, -0.5, -1.5, -0.5, -1.5, -0.5)}\n",
       "\n",
       "Python functions: \n",
       "['STL_formulas.inside_cuboid(object)', 'STL_formulas.outside_cuboid(object)']\n",
       "\n",
       "STL operators:\n",
       "['&', '|']\n",
       "\n",
       "STL specifications are represented as Python objects. some functions operate on these obects. The syntax is like \"specification.function()\"\n",
       "A list of available operators is shown below.\n",
       "\n",
       "STL functions:\n",
       "STL_['STL_formulas.inside_cuboid(object)', 'STL_formulas.outside_cuboid(object)']\n",
       "\n",
       "Make sure that you return the final specification between \"<\" and \">\" symbols so that the system can extract the specification succesfully.\n",
       "\n",
       "Some examples of user inputs and appropriate responses are shown below:\n",
       "User: The drone should reach goal 1 and avoid obstacles. Response: <STL_formulas.inside_cuboid(objects[\"goal1\"]).eventually(0, T) & STL_formulas.outside_cuboid(objects[\"obstacle\"]).always(0, T)>"
      ],
      "text/plain": [
       "<IPython.core.display.Markdown object>"
      ]
     },
     "metadata": {},
     "output_type": "display_data"
    }
   ],
   "source": [
    "new_instructions = insert_objects_functions_STL_operators_STL_functions(instructions)\n",
    "display(Markdown(new_instructions))"
   ]
  },
  {
   "cell_type": "code",
   "execution_count": 17,
   "metadata": {},
   "outputs": [
    {
     "name": "stdout",
     "output_type": "stream",
     "text": [
      "[{'role': 'system', 'content': 'You are an assistant guiding a drone to perform an instruction specified by a user.\\nYour task is to take the user\\'s instruction and translate it into a specification in Signal Temporal Logic (STL).\\nYou will be provided with a dictionary of objects in the scene, a list of available python functions, and STL operators that you can use in your generated STL specification.\\n\\nObjects:\\n{\\'goal1\\': (4, 5, 4, 5, 4, 5), \\'goal2\\': (-5, -4, -5, -4, -5, -4), \\'goal3\\': (-6, -5, -5, -4, -5, -4), \\'obstacle\\': (-1.5, -0.5, -1.5, -0.5, -1.5, -0.5)}\\n\\nPython functions: \\n[\\'STL_formulas.inside_cuboid(object)\\', \\'STL_formulas.outside_cuboid(object)\\']\\n\\nSTL operators:\\n[\\'&\\', \\'|\\']\\n\\nSTL specifications are represented as Python objects. some functions operate on these obects. The syntax is like \"specification.function()\"\\nA list of available operators is shown below.\\n\\nSTL functions:\\nSTL_[\\'STL_formulas.inside_cuboid(object)\\', \\'STL_formulas.outside_cuboid(object)\\']\\n\\nMake sure that you return the final specification between \"<\" and \">\" symbols so that the system can extract the specification succesfully.\\n\\nSome examples of user inputs and appropriate responses are shown below:\\nUser: The drone should reach goal 1 and avoid obstacles. Response: <STL_formulas.inside_cuboid(objects[\"goal1\"]).eventually(0, T) & STL_formulas.outside_cuboid(objects[\"obstacle\"]).always(0, T)>'}]\n"
     ]
    }
   ],
   "source": [
    "gpt = GPT()\n",
    "\n",
    "init_messages = [{\"role\": \"system\", \"content\": new_instructions}]\n",
    "user_input = [{\"role\": \"user\", \"content\": \"Move to goal 1\"}]\n",
    "\n",
    "print(init_messages)"
   ]
  },
  {
   "cell_type": "code",
   "execution_count": 18,
   "metadata": {},
   "outputs": [],
   "source": [
    "response = gpt.chatcompletion(init_messages, user_input)"
   ]
  },
  {
   "cell_type": "code",
   "execution_count": 19,
   "metadata": {},
   "outputs": [
    {
     "name": "stdout",
     "output_type": "stream",
     "text": [
      "ChatGPT says: \"<STL_formulas.inside_cuboid(objects[\"goal1\"]).eventually(0, T)>\"\n"
     ]
    }
   ],
   "source": [
    "print(f\"ChatGPT says: \\\"{response}\\\"\")"
   ]
  },
  {
   "cell_type": "code",
   "execution_count": 26,
   "metadata": {},
   "outputs": [],
   "source": [
    "#Extract the STL formula from the response using the \"<\" and \">\" symbols\n",
    "def extract_STL_formula(response):\n",
    "    start = response.find(\"<\")\n",
    "    end = response.find(\">\")\n",
    "    STL_formula = response[start+1:end]\n",
    "    return STL_formula\n"
   ]
  },
  {
   "cell_type": "code",
   "execution_count": 27,
   "metadata": {},
   "outputs": [
    {
     "name": "stdout",
     "output_type": "stream",
     "text": [
      "STL_formulas.inside_cuboid(objects[\"goal1\"]).eventually(0, T)\n"
     ]
    }
   ],
   "source": [
    "STL_formula_str = extract_STL_formula(response) # Extract the STL formula from the response\n",
    "STL_formula = eval(STL_formula_str) # transform the string into a python function"
   ]
  },
  {
   "cell_type": "code",
   "execution_count": 22,
   "metadata": {},
   "outputs": [
    {
     "data": {
      "text/plain": [
       "<stlpy.STL.formula.STLTree at 0x201a80a38e0>"
      ]
     },
     "execution_count": 22,
     "metadata": {},
     "output_type": "execute_result"
    }
   ],
   "source": [
    "STL_formula"
   ]
  },
  {
   "cell_type": "code",
   "execution_count": null,
   "metadata": {},
   "outputs": [],
   "source": []
  }
 ],
 "metadata": {
  "kernelspec": {
   "display_name": "base",
   "language": "python",
   "name": "python3"
  },
  "language_info": {
   "codemirror_mode": {
    "name": "ipython",
    "version": 3
   },
   "file_extension": ".py",
   "mimetype": "text/x-python",
   "name": "python",
   "nbconvert_exporter": "python",
   "pygments_lexer": "ipython3",
   "version": "3.9.12"
  }
 },
 "nbformat": 4,
 "nbformat_minor": 2
}
