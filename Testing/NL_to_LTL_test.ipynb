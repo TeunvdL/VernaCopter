{
 "cells": [
  {
   "cell_type": "code",
   "execution_count": 1,
   "metadata": {},
   "outputs": [],
   "source": [
    "import sys\n",
    "sys.path.append('C:\\\\Users\\\\iteun\\\\OneDrive - TU Eindhoven\\\\UNI\\\\Year 7\\\\Q2\\\\Final project\\\\Code\\\\ChatGPT-Drone-Control\\\\Pipeline')\n",
    "from NL_to_LTL import *\n",
    "from IPython.display import display, Markdown"
   ]
  },
  {
   "cell_type": "code",
   "execution_count": 2,
   "metadata": {},
   "outputs": [],
   "source": [
    "system_rules = [\n",
    "    \"You are a logic assistant, skilled in translating natural language to Linear Temporal Logic (LTL).\",\n",
    "    \"Please, only reply with an LTL formula.\"\n",
    "]\n",
    "\n",
    "question = \"The drone must be able to land safely when a landing request is initiated while it is in flight.\""
   ]
  },
  {
   "cell_type": "code",
   "execution_count": 3,
   "metadata": {},
   "outputs": [],
   "source": [
    "system_init = \"\"\n",
    "for rule in system_rules:\n",
    "    system_init=system_init+rule+\" \"\n",
    "\n",
    "init_messages = {\"role\": \"system\", \"content\": system_init}\n",
    "user_input = {\"role\": \"user\", \"content\": \"Please translate the following sentence to LTL: \" + question}"
   ]
  },
  {
   "cell_type": "code",
   "execution_count": 4,
   "metadata": {},
   "outputs": [],
   "source": [
    "nl_to_ltl_converter = NLToLTL()\n",
    "reply = nl_to_ltl_converter.generate_ltl(init_messages, user_input)"
   ]
  },
  {
   "cell_type": "code",
   "execution_count": 8,
   "metadata": {},
   "outputs": [
    {
     "data": {
      "text/markdown": [
       "Request: The drone must be able to land safely when a landing request is initiated while it is in flight."
      ],
      "text/plain": [
       "<IPython.core.display.Markdown object>"
      ]
     },
     "metadata": {},
     "output_type": "display_data"
    },
    {
     "data": {
      "text/markdown": [
       "Returned LTL formula: G = (request_initiated -> F (drone_in_flight -> F landing_safely))"
      ],
      "text/plain": [
       "<IPython.core.display.Markdown object>"
      ]
     },
     "metadata": {},
     "output_type": "display_data"
    }
   ],
   "source": [
    "display(Markdown(\"Request: \" + question))\n",
    "display(Markdown(\"Returned LTL formula: \" + reply))"
   ]
  }
 ],
 "metadata": {
  "kernelspec": {
   "display_name": "base",
   "language": "python",
   "name": "python3"
  },
  "language_info": {
   "codemirror_mode": {
    "name": "ipython",
    "version": 3
   },
   "file_extension": ".py",
   "mimetype": "text/x-python",
   "name": "python",
   "nbconvert_exporter": "python",
   "pygments_lexer": "ipython3",
   "version": "3.9.12"
  }
 },
 "nbformat": 4,
 "nbformat_minor": 2
}
