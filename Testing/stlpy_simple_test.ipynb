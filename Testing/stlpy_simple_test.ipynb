{
 "cells": [
  {
   "cell_type": "code",
   "execution_count": 31,
   "metadata": {},
   "outputs": [],
   "source": [
    "import numpy as np\n",
    "import matplotlib.pyplot as plt\n",
    "from stlpy.systems import LinearSystem, DoubleIntegrator\n",
    "from stlpy.STL import LinearPredicate\n",
    "from stlpy.solvers import GurobiMICPSolver"
   ]
  },
  {
   "cell_type": "code",
   "execution_count": 46,
   "metadata": {},
   "outputs": [],
   "source": [
    "T = 5\n",
    "\n",
    "A = np.array([[1.]])\n",
    "B = np.array([[1.]])\n",
    "C = np.array([[1.]])\n",
    "D = np.array([[0.]])\n",
    "#sys = DoubleIntegrator(1)\n",
    "sys = LinearSystem(A,B,C,D)\n",
    "\n",
    "x0 = np.array([[0]])"
   ]
  },
  {
   "cell_type": "code",
   "execution_count": 47,
   "metadata": {},
   "outputs": [],
   "source": [
    "pi = LinearPredicate(a=[1], b=[2])  # a*y - b > 0\n",
    "spec = pi.eventually(0, T)          # F_[0,5] pi"
   ]
  },
  {
   "cell_type": "code",
   "execution_count": 48,
   "metadata": {},
   "outputs": [
    {
     "name": "stdout",
     "output_type": "stream",
     "text": [
      "Setting up optimization problem...\n",
      "Setup complete in 0.03571200370788574 seconds.\n",
      "<class 'gurobipy.MQuadExpr'>\n",
      "Gurobi Optimizer version 10.0.3 build v10.0.3rc0 (win64)\n",
      "\n",
      "CPU model: 11th Gen Intel(R) Core(TM) i7-11800H @ 2.30GHz, instruction set [SSE2|AVX|AVX2|AVX512]\n",
      "Thread count: 8 physical cores, 16 logical processors, using up to 16 threads\n",
      "\n",
      "Optimize a model with 27 rows, 32 columns and 67 nonzeros\n",
      "Model fingerprint: 0x90f1602d\n",
      "Model has 12 quadratic objective terms\n",
      "Variable types: 26 continuous, 6 integer (6 binary)\n"
     ]
    },
    {
     "name": "stdout",
     "output_type": "stream",
     "text": [
      "Coefficient statistics:\n",
      "  Matrix range     [1e+00, 1e+03]\n",
      "  Objective range  [1e+00, 1e+00]\n",
      "  QObjective range [2e+00, 2e+00]\n",
      "  Bounds range     [1e+00, 1e+00]\n",
      "  RHS range        [1e+00, 1e+03]\n",
      "Presolve removed 16 rows and 16 columns\n",
      "Presolve time: 0.00s\n",
      "Presolved: 11 rows, 16 columns, 34 nonzeros\n",
      "Presolved model has 10 quadratic objective terms\n",
      "Variable types: 11 continuous, 5 integer (5 binary)\n",
      "Found heuristic solution: objective 6.4727273\n",
      "\n",
      "Root relaxation: objective -7.980438e+02, 20 iterations, 0.00 seconds (0.00 work units)\n",
      "\n",
      "    Nodes    |    Current Node    |     Objective Bounds      |     Work\n",
      " Expl Unexpl |  Obj  Depth IntInf | Incumbent    BestBd   Gap | It/Node Time\n",
      "\n",
      "     0     0 -798.04382    0    5    6.47273 -798.04382      -     -    0s\n",
      "\n",
      "Explored 1 nodes (20 simplex iterations) in 0.01 seconds (0.00 work units)\n",
      "Thread count was 16 (of 16 available processors)\n",
      "\n",
      "Solution count 1: 6.47273 \n",
      "\n",
      "Optimal solution found (tolerance 1.00e-04)\n",
      "Best objective 6.472727272726e+00, best bound 6.472727272726e+00, gap 0.0000%\n",
      "\n",
      "Optimal Solution Found!\n",
      "\n",
      "Solve time:  0.018999814987182617\n",
      "Optimal robustness:  0.0\n",
      "\n"
     ]
    }
   ],
   "source": [
    "solver = GurobiMICPSolver(spec, sys, x0, T)\n",
    "solver.AddQuadraticCost(Q=np.eye(1), R=np.eye(1))\n",
    "x, u, _, _ = solver.Solve()"
   ]
  },
  {
   "cell_type": "code",
   "execution_count": 49,
   "metadata": {},
   "outputs": [
    {
     "data": {
      "image/png": "[encoded data removed]",
      "text/plain": [
       "<Figure size 640x480 with 1 Axes>"
      ]
     },
     "metadata": {},
     "output_type": "display_data"
    }
   ],
   "source": [
    "plt.plot([i for i in range(T+1)], x.flatten(), 'bo')\n",
    "plt.xlabel(\"timestep (t)\")\n",
    "plt.ylabel(\"output signal (y)\")\n",
    "plt.show()"
   ]
  },
  {
   "cell_type": "code",
   "execution_count": null,
   "metadata": {},
   "outputs": [],
   "source": []
  },
  {
   "cell_type": "code",
   "execution_count": null,
   "metadata": {},
   "outputs": [],
   "source": []
  }
 ],
 "metadata": {
  "kernelspec": {
   "display_name": "base",
   "language": "python",
   "name": "python3"
  },
  "language_info": {
   "codemirror_mode": {
    "name": "ipython",
    "version": 3
   },
   "file_extension": ".py",
   "mimetype": "text/x-python",
   "name": "python",
   "nbconvert_exporter": "python",
   "pygments_lexer": "ipython3",
   "version": "3.9.12"
  }
 },
 "nbformat": 4,
 "nbformat_minor": 2
}
