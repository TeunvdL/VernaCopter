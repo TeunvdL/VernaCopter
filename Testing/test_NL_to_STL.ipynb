{
 "cells": [
  {
   "cell_type": "code",
   "execution_count": 1,
   "metadata": {},
   "outputs": [
    {
     "name": "stdout",
     "output_type": "stream",
     "text": [
      "WARNING: pydrake import failed, Drake-based solvers disabled.\n",
      "         Install drake (https://drake.mit.edu/installation.html)\n",
      "         to use the Drake-based solvers.\n"
     ]
    }
   ],
   "source": [
    "from NL_to_STL import NL_to_STL"
   ]
  },
  {
   "cell_type": "code",
   "execution_count": 2,
   "metadata": {},
   "outputs": [
    {
     "data": {
      "text/plain": [
       "<stlpy.STL.formula.STLTree at 0x24fb62eb160>"
      ]
     },
     "execution_count": 2,
     "metadata": {},
     "output_type": "execute_result"
    }
   ],
   "source": [
    "T = 10\n",
    "objects = {\"goal1\": (4, 5, 4, 5, 4, 5),\n",
    "           \"goal2\": (-5, -4, -5, -4, -5, -4),\n",
    "           \"goal3\": (-6,-5,-5,-4,-5,-4),\n",
    "           \"obstacle\": (-1.5, -0.5, -1.5, -0.5, -1.5, -0.5)}\n",
    "user_input = [{\"role\": \"user\", \"content\": \"Move to goal 1\"}]\n",
    "translator = NL_to_STL()\n",
    "translator.extract_STL_formula(user_input, objects, T)"
   ]
  },
  {
   "cell_type": "code",
   "execution_count": null,
   "metadata": {},
   "outputs": [],
   "source": []
  }
 ],
 "metadata": {
  "kernelspec": {
   "display_name": "base",
   "language": "python",
   "name": "python3"
  },
  "language_info": {
   "codemirror_mode": {
    "name": "ipython",
    "version": 3
   },
   "file_extension": ".py",
   "mimetype": "text/x-python",
   "name": "python",
   "nbconvert_exporter": "python",
   "pygments_lexer": "ipython3",
   "version": "3.9.12"
  }
 },
 "nbformat": 4,
 "nbformat_minor": 2
}
