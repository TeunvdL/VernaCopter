{
 "cells": [
  {
   "cell_type": "code",
   "execution_count": 1,
   "metadata": {},
   "outputs": [
    {
     "name": "stdout",
     "output_type": "stream",
     "text": [
      "WARNING: pydrake import failed, Drake-based solvers disabled.\n",
      "         Install drake (https://drake.mit.edu/installation.html)\n",
      "         to use the Drake-based solvers.\n"
     ]
    }
   ],
   "source": [
    "import numpy as np\n",
    "import matplotlib.pyplot as plt\n",
    "from stlpy.benchmarks import NarrowPassage\n",
    "from stlpy.solvers import *"
   ]
  },
  {
   "cell_type": "code",
   "execution_count": 2,
   "metadata": {},
   "outputs": [],
   "source": [
    "# Specification Parameters\n",
    "T = 25\n",
    "\n",
    "# Create the specification and define the dynamics\n",
    "scenario = NarrowPassage(T)\n",
    "spec = scenario.GetSpecification()\n",
    "spec.simplify()\n",
    "sys = scenario.GetSystem()\n",
    "\n",
    "# Specify any additional running cost (this helps the numerics in\n",
    "# a gradient-based method)\n",
    "Q = 1e-1*np.diag([0,0,1,1])   # just penalize high velocities\n",
    "R = 1e-1*np.eye(2)\n",
    "\n",
    "# Initial state\n",
    "x0 = np.array([3.0,3.6,0,0])"
   ]
  },
  {
   "cell_type": "code",
   "execution_count": 3,
   "metadata": {},
   "outputs": [
    {
     "name": "stdout",
     "output_type": "stream",
     "text": [
      "Set parameter Username\n",
      "Academic license - for non-commercial use only - expires 2024-11-29\n",
      "Setting up optimization problem...\n",
      "Setup complete in 1.6300621032714844 seconds.\n",
      "<class 'gurobipy.MQuadExpr'>\n",
      "Gurobi Optimizer version 10.0.3 build v10.0.3rc0 (win64)\n",
      "\n",
      "CPU model: 11th Gen Intel(R) Core(TM) i7-11800H @ 2.30GHz, instruction set [SSE2|AVX|AVX2|AVX512]\n",
      "Thread count: 8 physical cores, 16 logical processors, using up to 16 threads\n",
      "\n",
      "Optimize a model with 2240 rows, 1719 columns and 5249 nonzeros\n",
      "Model fingerprint: 0xe7130f9f\n",
      "Model has 104 quadratic objective terms\n",
      "Variable types: 1095 continuous, 624 integer (624 binary)\n",
      "Coefficient statistics:\n",
      "  Matrix range     [1e+00, 1e+03]\n",
      "  Objective range  [1e+00, 1e+00]\n",
      "  QObjective range [2e-01, 2e-01]\n",
      "  Bounds range     [1e+00, 1e+00]\n",
      "  RHS range        [5e-01, 1e+03]\n",
      "Presolve removed 1610 rows and 1219 columns\n",
      "Presolve time: 0.01s\n",
      "Presolved: 630 rows, 500 columns, 1984 nonzeros\n",
      "Presolved model has 100 quadratic objective terms\n",
      "Variable types: 145 continuous, 355 integer (355 binary)\n",
      "Found heuristic solution: objective 1.2769881\n",
      "Found heuristic solution: objective 1.0405995\n",
      "\n",
      "Root relaxation: objective -4.000000e-01, 392 iterations, 0.00 seconds (0.00 work units)\n",
      "\n",
      "    Nodes    |    Current Node    |     Objective Bounds      |     Work\n",
      " Expl Unexpl |  Obj  Depth IntInf | Incumbent    BestBd   Gap | It/Node Time\n",
      "\n",
      "     0     0   -0.40000    0   91    1.04060   -0.40000   138%     -    0s\n",
      "H    0     0                       0.6664054   -0.40000   160%     -    0s\n",
      "     0     0   -0.40000    0  180    0.66641   -0.40000   160%     -    0s\n",
      "     0     0   -0.40000    0  190    0.66641   -0.40000   160%     -    0s\n",
      "     0     0   -0.40000    0  189    0.66641   -0.40000   160%     -    0s\n",
      "H    0     0                       0.6524643   -0.31933   149%     -    0s\n",
      "     0     2   -0.31933    0  189    0.65246   -0.31933   149%     -    0s\n",
      "H  134    82                       0.6447220   -0.31933   150%  18.8    0s\n",
      "H  169   123                       0.6036355   -0.31933   153%  17.1    0s\n",
      "H  178   123                       0.3492631   -0.31933   191%  18.1    0s\n",
      "H  183   123                       0.2475197   -0.31933   229%  17.8    0s\n",
      "H  661   438                       0.1993012   -0.31933   260%  19.2    0s\n",
      "* 1021   567              65       0.1976590   -0.31933   262%  20.2    0s\n",
      "H 1525   822                       0.1675677   -0.31933   291%  21.0    0s\n",
      "H 1685   783                       0.1606617   -0.31933   299%  23.0    0s\n",
      "H 1704   760                       0.1506262   -0.31933   312%  23.2    0s\n",
      "H 1710   720                       0.1301064   -0.31933   345%  23.4    0s\n",
      "H 1794   730                       0.1176297   -0.31933   371%  23.1    0s\n",
      "H 1802   693                       0.0687829   -0.31933   564%  23.2    0s\n",
      "H 1858   656                       0.0597381   -0.31933   635%  22.8    0s\n",
      "H 2975   789                       0.0557786   -0.31933   673%  21.0    0s\n",
      "H 2993   754                       0.0555221   -0.31933   675%  20.9    0s\n",
      "H 3014   719                       0.0479846   -0.31933   765%  20.8    0s\n",
      "H 3028   694                       0.0467951   -0.31933   782%  20.9    0s\n",
      "*10292  2833              98       0.0427877   -0.31933   846%  16.8    1s\n",
      "*10295  2766              98       0.0327559   -0.31933  1075%  16.8    1s\n",
      "H11908  2948                       0.0170491   -0.31933  1973%  16.2    1s\n",
      "*11973  2876             103       0.0093219   -0.31933  3526%  16.2    1s\n",
      "H15279  2903                       0.0035753   -0.26258  7444%  16.1    2s\n",
      "H15324  2875                       0.0006735   -0.26258      -  16.1    2s\n",
      "H15344  2828                      -0.0023553   -0.26258      -  16.1    2s\n",
      "H17969  2869                      -0.0031269   -0.19612  6172%  16.2    2s\n",
      "H30611  1680                      -0.0031697   -0.06551  1967%  14.3    3s\n",
      "\n",
      "Cutting planes:\n",
      "  Learned: 3\n",
      "\n",
      "Explored 36328 nodes (486391 simplex iterations) in 3.84 seconds (2.99 work units)\n",
      "Thread count was 16 (of 16 available processors)\n",
      "\n",
      "Solution count 10: -0.00316969 -0.00312686 -0.00235529 ... 0.0467951\n",
      "\n",
      "Optimal solution found (tolerance 1.00e-04)\n",
      "Best objective -3.169688221744e-03, best bound -3.169688221744e-03, gap 0.0000%\n",
      "\n",
      "Optimal Solution Found!\n",
      "\n",
      "Solve time:  3.8440001010894775\n",
      "Optimal robustness:  0.25\n",
      "\n"
     ]
    }
   ],
   "source": [
    "# Specify a solution method\n",
    "solver = GurobiMICPSolver(spec, sys, x0, T, robustness_cost=True)\n",
    "#solver = DrakeMICPSolver(spec, sys, x0, T, robustness_cost=True)\n",
    "#solver = DrakeSos1Solver(spec, sys, x0, T, robustness_cost=True)\n",
    "\n",
    "# Set bounds on state and control variables\n",
    "u_min = np.array([-0.5,-0.5])\n",
    "u_max = np.array([0.5, 0.5])\n",
    "x_min = np.array([0.0, 0.0, -1.0, -1.0])\n",
    "x_max = np.array([10.0, 10.0, 1.0, 1.0])\n",
    "solver.AddControlBounds(u_min, u_max)\n",
    "solver.AddStateBounds(x_min, x_max)\n",
    "\n",
    "# Add quadratic running cost (optional)\n",
    "solver.AddQuadraticCost(Q,R)\n",
    "\n",
    "# Solve the optimization problem\n",
    "x, u, _, _ = solver.Solve()"
   ]
  },
  {
   "cell_type": "code",
   "execution_count": 4,
   "metadata": {},
   "outputs": [
    {
     "data": {
      "image/png": "[encoded data removed]",
      "text/plain": [
       "<Figure size 640x480 with 1 Axes>"
      ]
     },
     "metadata": {},
     "output_type": "display_data"
    }
   ],
   "source": [
    "if x is not None:\n",
    "    # Plot the solution\n",
    "    ax = plt.gca()\n",
    "    scenario.add_to_plot(ax)\n",
    "    plt.scatter(*x[:2,:])\n",
    "    plt.show()"
   ]
  }
 ],
 "metadata": {
  "kernelspec": {
   "display_name": "base",
   "language": "python",
   "name": "python3"
  },
  "language_info": {
   "codemirror_mode": {
    "name": "ipython",
    "version": 3
   },
   "file_extension": ".py",
   "mimetype": "text/x-python",
   "name": "python",
   "nbconvert_exporter": "python",
   "pygments_lexer": "ipython3",
   "version": "3.9.12"
  }
 },
 "nbformat": 4,
 "nbformat_minor": 2
}
