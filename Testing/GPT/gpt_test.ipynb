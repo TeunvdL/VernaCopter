{
 "cells": [
  {
   "cell_type": "code",
   "execution_count": 1,
   "metadata": {},
   "outputs": [],
   "source": [
    "from openai import OpenAI\n",
    "from IPython.display import display, Markdown"
   ]
  },
  {
   "cell_type": "code",
   "execution_count": 2,
   "metadata": {},
   "outputs": [],
   "source": [
    "client = OpenAI()\n",
    "\n",
    "completion = client.chat.completions.create(\n",
    "  model=\"gpt-3.5-turbo\",\n",
    "  messages=[\n",
    "    {\"role\": \"user\", \"content\": \"Bouw een broodje voor me.\"}\n",
    "  ]\n",
    ")\n",
    "\n",
    "message = completion.choices[0].message.content"
   ]
  },
  {
   "cell_type": "code",
   "execution_count": 3,
   "metadata": {},
   "outputs": [
    {
     "data": {
      "text/markdown": [
       "Natuurlijk! Hier is een suggestie voor een heerlijk broodje:\n",
       "\n",
       "Ingrediënten:\n",
       "- 1 vers gebakken broodje naar keuze (bijvoorbeeld ciabatta, baguette, volkoren, etc.)\n",
       "- Smeersel naar keuze (mayonaise, mosterd, hummus, etc.)\n",
       "- Plakjes kalkoen of kip\n",
       "- Plakjes kaas (cheddar, mozzarella, etc.)\n",
       "- Sla naar keuze (ijsbergsla, rucola, etc.)\n",
       "- Plakjes tomaat\n",
       "- Plakjes komkommer\n",
       "- Plakjes augurk\n",
       "- Rode ui in reepjes\n",
       "- Zout en peper naar smaak\n",
       "\n",
       "Bereidingswijze:\n",
       "1. Snijd het broodje horizontaal doormidden.\n",
       "2. Smeer beide helften van het broodje in met het gekozen smeersel.\n",
       "3. Beleg een van de helften met plakjes kalkoen of kip en vervolgens met plakjes kaas.\n",
       "4. Leg daarbovenop wat sla, plakjes tomaat, komkommer, augurk en rode ui.\n",
       "5. Breng op smaak met een snufje zout en peper.\n",
       "6. Leg de andere helft van het broodje erbovenop en druk voorzichtig aan.\n",
       "7. Snijd het broodje eventueel in helften of in schuine plakken, afhankelijk van je persoonlijke voorkeur.\n",
       "8. Serveer en geniet van je zelfgemaakte broodje!\n",
       "\n",
       "Uiteraard kun je naar eigen smaak variëren met de ingrediënten en naar wens extra toevoegingen doen, zoals plakjes avocado, bacon, paprika, etc. Eet smakelijk!"
      ],
      "text/plain": [
       "<IPython.core.display.Markdown object>"
      ]
     },
     "metadata": {},
     "output_type": "display_data"
    }
   ],
   "source": [
    "# Display the text using Markdown\n",
    "display(Markdown(message))"
   ]
  }
 ],
 "metadata": {
  "kernelspec": {
   "display_name": "base",
   "language": "python",
   "name": "python3"
  },
  "language_info": {
   "codemirror_mode": {
    "name": "ipython",
    "version": 3
   },
   "file_extension": ".py",
   "mimetype": "text/x-python",
   "name": "python",
   "nbconvert_exporter": "python",
   "pygments_lexer": "ipython3",
   "version": "3.9.12"
  }
 },
 "nbformat": 4,
 "nbformat_minor": 2
}
