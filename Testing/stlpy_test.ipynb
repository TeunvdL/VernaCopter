{
 "cells": [
  {
   "cell_type": "code",
   "execution_count": 1,
   "metadata": {},
   "outputs": [
    {
     "name": "stdout",
     "output_type": "stream",
     "text": [
      "WARNING: pydrake import failed, Drake-based solvers disabled.\n",
      "         Install drake (https://drake.mit.edu/installation.html)\n",
      "         to use the Drake-based solvers.\n"
     ]
    },
    {
     "ename": "ImportError",
     "evalue": "cannot import name 'DrakeMICPSolver' from 'stlpy.solvers' (c:\\Users\\iteun\\miniconda3\\lib\\site-packages\\stlpy\\solvers\\__init__.py)",
     "output_type": "error",
     "traceback": [
      "\u001b[1;31m---------------------------------------------------------------------------\u001b[0m",
      "\u001b[1;31mImportError\u001b[0m                               Traceback (most recent call last)",
      "Cell \u001b[1;32mIn[1], line 5\u001b[0m\n\u001b[0;32m      3\u001b[0m \u001b[38;5;28;01mfrom\u001b[39;00m \u001b[38;5;21;01mstlpy\u001b[39;00m\u001b[38;5;21;01m.\u001b[39;00m\u001b[38;5;21;01msystems\u001b[39;00m \u001b[38;5;28;01mimport\u001b[39;00m LinearSystem\n\u001b[0;32m      4\u001b[0m \u001b[38;5;28;01mfrom\u001b[39;00m \u001b[38;5;21;01mstlpy\u001b[39;00m\u001b[38;5;21;01m.\u001b[39;00m\u001b[38;5;21;01mSTL\u001b[39;00m \u001b[38;5;28;01mimport\u001b[39;00m LinearPredicate\n\u001b[1;32m----> 5\u001b[0m \u001b[38;5;28;01mfrom\u001b[39;00m \u001b[38;5;21;01mstlpy\u001b[39;00m\u001b[38;5;21;01m.\u001b[39;00m\u001b[38;5;21;01msolvers\u001b[39;00m \u001b[38;5;28;01mimport\u001b[39;00m DrakeMICPSolver\n",
      "\u001b[1;31mImportError\u001b[0m: cannot import name 'DrakeMICPSolver' from 'stlpy.solvers' (c:\\Users\\iteun\\miniconda3\\lib\\site-packages\\stlpy\\solvers\\__init__.py)"
     ]
    }
   ],
   "source": [
    "import numpy as np\n",
    "import matplotlib.pyplot as plt\n",
    "from stlpy.systems import LinearSystem\n",
    "from stlpy.STL import LinearPredicate\n",
    "from stlpy.solvers import DrakeMICPSolver"
   ]
  },
  {
   "cell_type": "code",
   "execution_count": null,
   "metadata": {},
   "outputs": [],
   "source": [
    "A = np.array([[1.]])\n",
    "B = np.array([[1.]])\n",
    "C = np.array([[1.]])\n",
    "D = np.array([[0.]])\n",
    "sys = LinearSystem(A,B,C,D)\n",
    "\n",
    "x0 = np.array([[0]])"
   ]
  },
  {
   "cell_type": "code",
   "execution_count": null,
   "metadata": {},
   "outputs": [],
   "source": [
    "pi = LinearPredicate(a=[1], b=[2])  # a*y - b > 0\n",
    "spec = pi.eventually(0, 5)          # F_[0,5] pi"
   ]
  },
  {
   "cell_type": "code",
   "execution_count": null,
   "metadata": {},
   "outputs": [],
   "source": [
    "solver = DrakeMICPSolver(spec, sys, x0, 5)\n",
    "solver.AddQuadraticCost(Q=np.eye(1), R=np.eye(1))\n",
    "x, u, _, _ = solver.Solve()"
   ]
  },
  {
   "cell_type": "code",
   "execution_count": null,
   "metadata": {},
   "outputs": [],
   "source": [
    "plt.plot([0,1,2,3,4,5], x.flatten(), 'bo')\n",
    "plt.xlabel(\"timestep (t)\")\n",
    "plt.ylabel(\"output signal (y)\")\n",
    "plt.show()"
   ]
  }
 ],
 "metadata": {
  "kernelspec": {
   "display_name": "base",
   "language": "python",
   "name": "python3"
  },
  "language_info": {
   "codemirror_mode": {
    "name": "ipython",
    "version": 3
   },
   "file_extension": ".py",
   "mimetype": "text/x-python",
   "name": "python",
   "nbconvert_exporter": "python",
   "pygments_lexer": "ipython3",
   "version": "3.9.12"
  }
 },
 "nbformat": 4,
 "nbformat_minor": 2
}
