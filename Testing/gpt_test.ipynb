{
 "cells": [
  {
   "cell_type": "code",
   "execution_count": 14,
   "metadata": {},
   "outputs": [],
   "source": [
    "from openai import OpenAI\n",
    "from IPython.display import display, Markdown"
   ]
  },
  {
   "cell_type": "code",
   "execution_count": 12,
   "metadata": {},
   "outputs": [],
   "source": [
    "client = OpenAI()\n",
    "\n",
    "completion = client.chat.completions.create(\n",
    "  model=\"gpt-3.5-turbo\",\n",
    "  messages=[\n",
    "    {\"role\": \"system\", \"content\": \"You are a poetic assistant, skilled in explaining complex programming concepts with creative flair.\"},\n",
    "    {\"role\": \"user\", \"content\": \"Compose a poem that explains the concept of recursion in programming.\"}\n",
    "  ]\n",
    ")\n",
    "\n",
    "message = completion.choices[0].message.content"
   ]
  },
  {
   "cell_type": "code",
   "execution_count": 26,
   "metadata": {},
   "outputs": [
    {
     "data": {
      "text/plain": [
       "ChatCompletionMessage(content=\"In the realm of loops and code's grand dance,\\nLies a mystical concept with a subtle romance,\\nRecursion, enchanting, it sparks the mind's fire,\\nA concept so artful, it never will tire!\\n\\nImagine a function, oh so routine,\\nThat calls itself within its own serene,\\nLike a mirrored reflection, endlessly reflecting,\\nDeeper and deeper, it goes, resurrecting.\\n\\nWith every iteration, a new branch takes flight,\\nInto the abyss of problems, like stars in the night,\\nFrom the trunk of the tree, new limbs emerge,\\nAs recursion whispers, its secrets converge.\\n\\nThrough this labyrinthine web, it unfurls,\\nUnraveling puzzles, transforming the world,\\nA self-contained journey, unforeseen,\\nSolving problems anew, like a waltzing queen.\\n\\nLike fractals, it expands, infinitely bound,\\nExploring dimensions where insight is found,\\nWith each recursive call, a layer is seen,\\nA tapestry of logic, intricate and keen.\\n\\nBut beware, unwary traveler, for within lies the trick,\\nA humble condition that can be oh so quick,\\nA base case, the escape hatch in this recursive spree,\\nSaving us from infinite loops, setting us free.\\n\\nSo dance, recursion, gracefully you entwine,\\nIn binary trees and algorithms, so divine,\\nFrom Fibonacci's spiral to flood-filling art,\\nRecursion, a symphony, a programmer's heart.\\n\\nSo embrace its allure, its genius and might,\\nWith recursion, worlds will yield to your light,\\nAnd in the realm of programming, forever you'll be,\\nThe poet of logic, through recursion, set free.\", role='assistant', function_call=None, tool_calls=None)"
      ]
     },
     "execution_count": 26,
     "metadata": {},
     "output_type": "execute_result"
    }
   ],
   "source": [
    "completion.choices[0].message"
   ]
  },
  {
   "cell_type": "code",
   "execution_count": 24,
   "metadata": {},
   "outputs": [
    {
     "data": {
      "text/markdown": [
       "In the realm of loops and code's grand dance,\n",
       "Lies a mystical concept with a subtle romance,\n",
       "Recursion, enchanting, it sparks the mind's fire,\n",
       "A concept so artful, it never will tire!\n",
       "\n",
       "Imagine a function, oh so routine,\n",
       "That calls itself within its own serene,\n",
       "Like a mirrored reflection, endlessly reflecting,\n",
       "Deeper and deeper, it goes, resurrecting.\n",
       "\n",
       "With every iteration, a new branch takes flight,\n",
       "Into the abyss of problems, like stars in the night,\n",
       "From the trunk of the tree, new limbs emerge,\n",
       "As recursion whispers, its secrets converge.\n",
       "\n",
       "Through this labyrinthine web, it unfurls,\n",
       "Unraveling puzzles, transforming the world,\n",
       "A self-contained journey, unforeseen,\n",
       "Solving problems anew, like a waltzing queen.\n",
       "\n",
       "Like fractals, it expands, infinitely bound,\n",
       "Exploring dimensions where insight is found,\n",
       "With each recursive call, a layer is seen,\n",
       "A tapestry of logic, intricate and keen.\n",
       "\n",
       "But beware, unwary traveler, for within lies the trick,\n",
       "A humble condition that can be oh so quick,\n",
       "A base case, the escape hatch in this recursive spree,\n",
       "Saving us from infinite loops, setting us free.\n",
       "\n",
       "So dance, recursion, gracefully you entwine,\n",
       "In binary trees and algorithms, so divine,\n",
       "From Fibonacci's spiral to flood-filling art,\n",
       "Recursion, a symphony, a programmer's heart.\n",
       "\n",
       "So embrace its allure, its genius and might,\n",
       "With recursion, worlds will yield to your light,\n",
       "And in the realm of programming, forever you'll be,\n",
       "The poet of logic, through recursion, set free."
      ],
      "text/plain": [
       "<IPython.core.display.Markdown object>"
      ]
     },
     "metadata": {},
     "output_type": "display_data"
    }
   ],
   "source": [
    "# Display the text using Markdown\n",
    "display(Markdown(message))"
   ]
  }
 ],
 "metadata": {
  "kernelspec": {
   "display_name": "base",
   "language": "python",
   "name": "python3"
  },
  "language_info": {
   "codemirror_mode": {
    "name": "ipython",
    "version": 3
   },
   "file_extension": ".py",
   "mimetype": "text/x-python",
   "name": "python",
   "nbconvert_exporter": "python",
   "pygments_lexer": "ipython3",
   "version": "3.9.12"
  }
 },
 "nbformat": 4,
 "nbformat_minor": 2
}
