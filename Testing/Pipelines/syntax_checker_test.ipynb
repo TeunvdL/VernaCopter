{
 "cells": [
  {
   "cell_type": "code",
   "execution_count": 1,
   "metadata": {},
   "outputs": [
    {
     "name": "stdout",
     "output_type": "stream",
     "text": [
      "WARNING: pydrake import failed, Drake-based solvers disabled.\n",
      "         Install drake (https://drake.mit.edu/installation.html)\n",
      "         to use the Drake-based solvers.\n"
     ]
    }
   ],
   "source": [
    "from NL_to_STL import *"
   ]
  },
  {
   "cell_type": "code",
   "execution_count": 2,
   "metadata": {},
   "outputs": [],
   "source": [
    "T = 20              # time horizon in seconds \n",
    "dt = 0.5            # time step in seconds\n",
    "N = int(T/dt)       # number of time steps\n",
    "max_acc = 50        # maximum acceleration in m/s^2\n",
    "max_speed = 1       # maximum speed in m/s\n",
    "\n",
    "objects = {\"key\" : (3.75, 4.75, 3.75, 4.75, 1., 2.),\n",
    "           \"chest\": (-4.25, -3, -4.5, -3.75, 0., 0.75),\n",
    "           \"door\": (0., 0.5, -2.5, -1, 0., 2.5),\n",
    "           \"room_bounds\": (-5., 5., -5., 5., 0., 3.),\n",
    "           \"NE_inside_wall\": (2., 5., 3., 3.5, 0., 3.),\n",
    "           \"south_mid_inside_wall\": (0., 0.5, -5., -2.5, 0., 3.),\n",
    "           \"north_mid_inside_wall\": (0., 0.5, -1., 5., 0., 3.),\n",
    "           \"west_inside_wall\": (-2.25, -1.75, -5., 3.5, 0., 3.),\n",
    "           \"above_door_wall\": (0., 0.5, -2.5, -1, 2.5, 3.),\n",
    "           }\n",
    "\n",
    "x0 = np.array([3.,-4.,0.5,0.,0.,0.]) # initial state: x, y, z, vx, vy, vz"
   ]
  },
  {
   "cell_type": "code",
   "execution_count": 3,
   "metadata": {},
   "outputs": [],
   "source": [
    "translator = NL_to_STL(objects, N, dt)"
   ]
  },
  {
   "cell_type": "code",
   "execution_count": 4,
   "metadata": {},
   "outputs": [],
   "source": [
    "spec = 'STL_formulas.inside_cuboid(objects[\"key\"]).eventually(0, 40) & STL_formulas.outside_cuboid(objects[\"NE_inside_wall\"]) & STL_formulas.outside_cuboid(objects[\"south_mid_inside_wall\"]) & STL_formulas.outside_cuboid(objects[\"north_mid_inside_wall\"]) & STL_formulas.outside_cuboid(objects[\"west_inside_wall\"]).always(0, 40)'"
   ]
  },
  {
   "cell_type": "code",
   "execution_count": 5,
   "metadata": {},
   "outputs": [
    {
     "name": "stdout",
     "output_type": "stream",
     "text": [
      "\u001b[96mAssistant:\u001b[0m The specification provided is almost correct. However, it is missing a temporal function for the conjunction of outside conditions. Additionally, the time horizon is not set correctly. \n",
      "\n",
      "The edited specification is:\n",
      "<STL_formulas.inside_cuboid(objects[\"key\"]).eventually(0, 40) & STL_formulas.outside_cuboid(objects[\"NE_inside_wall\"]).eventually(0, 40) & STL_formulas.outside_cuboid(objects[\"south_mid_inside_wall\"]).eventually(0, 40) & STL_formulas.outside_cuboid(objects[\"north_mid_inside_wall\"]).eventually(0, 40) & STL_formulas.outside_cuboid(objects[\"west_inside_wall\"]).always(0, 40)>\n"
     ]
    },
    {
     "data": {
      "text/plain": [
       "[]"
      ]
     },
     "execution_count": 5,
     "metadata": {},
     "output_type": "execute_result"
    }
   ],
   "source": [
    "translator.gpt_syntax_checker(spec)"
   ]
  }
 ],
 "metadata": {
  "kernelspec": {
   "display_name": "base",
   "language": "python",
   "name": "python3"
  },
  "language_info": {
   "codemirror_mode": {
    "name": "ipython",
    "version": 3
   },
   "file_extension": ".py",
   "mimetype": "text/x-python",
   "name": "python",
   "nbconvert_exporter": "python",
   "pygments_lexer": "ipython3",
   "version": "3.9.12"
  }
 },
 "nbformat": 4,
 "nbformat_minor": 2
}
