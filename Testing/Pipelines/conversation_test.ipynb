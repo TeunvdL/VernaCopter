{
 "cells": [
  {
   "cell_type": "code",
   "execution_count": 1,
   "metadata": {},
   "outputs": [
    {
     "name": "stdout",
     "output_type": "stream",
     "text": [
      "WARNING: pydrake import failed, Drake-based solvers disabled.\n",
      "         Install drake (https://drake.mit.edu/installation.html)\n",
      "         to use the Drake-based solvers.\n"
     ]
    }
   ],
   "source": [
    "from STL_to_path import *\n",
    "from simple_GPT import *\n",
    "from NL_to_STL import *"
   ]
  },
  {
   "cell_type": "code",
   "execution_count": 2,
   "metadata": {},
   "outputs": [],
   "source": [
    "T_max = 20          # time horizon in seconds \n",
    "dt = 0.5            # time step in seconds\n",
    "N = int(T_max/dt)   # number of time steps\n",
    "max_acc = 50        # maximum acceleration in m/s^2\n",
    "max_speed = 1       # maximum speed in m/s\n",
    "\n",
    "objects = {\"key\" : (3.75, 4.75, 3.75, 4.75, 1., 2.),\n",
    "           \"chest\": (-4.25, -3, -4.5, -3.75, 0., 0.75),\n",
    "           \"door\": (0., 0.5, -2.5, -1, 0., 2.5),\n",
    "           \"bounds\": (-5., 5., -5., 5., 0., 3.),\n",
    "           \"NE_inside_wall\": (2., 5., 3., 3.5, 0., 3.),\n",
    "           \"south_mid_inside_wall\": (0., 0.5, -5., -2.5, 0., 3.),\n",
    "           \"north_mid_inside_wall\": (0., 0.5, -1., 5., 0., 3.),\n",
    "           \"west_inside_wall\": (-2.25, -1.75, -5., 3.5, 0., 3.),\n",
    "           \"top_door\": (0., 0.5, -2.5, -1, 2.5, 3.),\n",
    "           }\n",
    "\n",
    "x0 = np.array([0.,0.,0.,0.,0.,0.]) # initial state: x, y, z, vx, vy, vz"
   ]
  },
  {
   "cell_type": "code",
   "execution_count": 3,
   "metadata": {},
   "outputs": [],
   "source": [
    "translator = NL_to_STL(objects, T_max, dt, print_instructions=False)\n",
    "gpt = GPT()"
   ]
  },
  {
   "cell_type": "code",
   "execution_count": 4,
   "metadata": {},
   "outputs": [],
   "source": [
    "messages = []\n",
    "raw_system_message = translator.load_chatgpt_instructions()\n",
    "system_message = translator.insert_instruction_variables(raw_system_message)\n",
    "messages.append({\"role\": \"system\", \"content\": system_message})"
   ]
  },
  {
   "cell_type": "code",
   "execution_count": 5,
   "metadata": {},
   "outputs": [
    {
     "name": "stdout",
     "output_type": "stream",
     "text": [
      "Assistant: You are an assistant guiding a drone to perform an instruction specified by a user.\n",
      "Your task is to take the user's instruction and translate it into a specification in Signal Temporal Logic (STL).\n",
      "You are provided with a dictionary of objects in the scene, the available Logic functions, and Logic operators that you can use in your generated STL specification. All of these are provided below.\n",
      "\n",
      "Objects:\n",
      "{'key': (3.75, 4.75, 3.75, 4.75, 1.0, 2.0), 'chest': (-4.25, -3, -4.5, -3.75, 0.0, 0.75), 'door': (0.0, 0.5, -2.5, -1, 0.0, 2.5), 'bounds': (-5.0, 5.0, -5.0, 5.0, 0.0, 3.0), 'NE_inside_wall': (2.0, 5.0, 3.0, 3.5, 0.0, 3.0), 'south_mid_inside_wall': (0.0, 0.5, -5.0, -2.5, 0.0, 3.0), 'north_mid_inside_wall': (0.0, 0.5, -1.0, 5.0, 0.0, 3.0), 'west_inside_wall': (-2.25, -1.75, -5.0, 3.5, 0.0, 3.0), 'top_door': (0.0, 0.5, -2.5, -1, 2.5, 3.0)}\n",
      "\n",
      "Logic functions: \n",
      "\"STL_formulas.inside_cuboid(object)\", \"STL_formulas.outside_cuboid(object)\"\n",
      "\n",
      "Logic operators:\n",
      "\"&\", \"|\"\n",
      "\n",
      "STL specifications are represented as Python objects. some temporal functions operate on these obects. The syntax is like \"specification.function()\"\n",
      "The available temporal functions are shown below.\n",
      "\n",
      "Temporal functions:\n",
      "\"eventually(t1, t2)\", \"always(t1, t2)\", \"until(other, t1, t2)\"\n",
      "\n",
      "A time horizon is also provided, which is the maximum time that the solver considers. Do not use a value for time larger than that value. You are allowed to use smaller values.\n",
      "Time horizon (maximum time for solver): 20\n",
      "\n",
      "Please note that every specification requires a temporal function to operate on it: \n",
      "\"STL_formulas.inside_cuboid(objects[\"goal1\"]).eventually(0, 5)\" will work, but \"STL_formulas.inside_cuboid(objects[\"goal1\"])\" won't.\n",
      "\n",
      "Your interaction with the user will be in conversation-style. You should ask questions to get more insight in the task. \n",
      "Once you have gained enough information, return the final specifications between \"<\" and \">\" brackets so that the system can extract the specification succesfully. ALWAYS ask at least one question before giving the final specification.\n",
      "\n",
      "An example of a user input and the appropriate response is shown below:\n",
      "User: The drone should reach the goal and avoid the obstacle. Response: <STL_formulas.inside_cuboid(objects[\"goal\"]).eventually(0, 20) & STL_formulas.outside_cuboid(objects[\"obstacle\"]).always(0, 20)>\n",
      "\n",
      "In some cases the task can be split into parts that can be executed sequentially. Please make sure to split the problems in as small parts as possible. Do note that each part is solved with the aforementioned time horizon and starts at time 0.\n",
      "An example is shown below.\n",
      "User: The drone should go to goal 1 and then goal 2 and avoid the obstacle. Response: <STL_formulas.inside_cuboid(objects[\"goal1\"]).eventually(0, 10) & STL_formulas.outside_cuboid(objects[\"obstacle\"]).always(0, 10)> <STL_formulas.inside_cuboid(objects[\"goal2\"]).eventually(0, 10) & STL_formulas.outside_cuboid(objects[\"obstacle\"]).always(0, 10)> \n",
      " ______________________________\n",
      "User: Go to the chest\n",
      "Assistant: Do you want the drone to simply go to the chest, or do you want any specific behavior once it reaches the chest?\n",
      "User: Stay there once it has reached it.\n",
      "Assistant: <STL_formulas.inside_cuboid(objects[\"chest\"]).eventually(0, 20) & STL_formulas.inside_cuboid(objects[\"chest\"]).always(0, 20)>\n",
      "< detected\n"
     ]
    }
   ],
   "source": [
    "print(\"Assistant:\", system_message, \"\\n\", \"______________________________\")\n",
    "i=0\n",
    "while i<10:\n",
    "    user_input = input(\"You: \")\n",
    "    print(\"User:\", user_input)\n",
    "\n",
    "    if user_input.lower() == 'quit' or user_input.lower() == 'exit':\n",
    "        print(\"Goodbye!\")\n",
    "        break\n",
    "\n",
    "    messages.append({\"role\": \"user\", \"content\": user_input})\n",
    "    response = gpt.chatcompletion(messages)\n",
    "    print(\"Assistant:\", response)\n",
    "    messages.append({\"role\": \"assistant\", \"content\": response})\n",
    "\n",
    "    # check if < or > symbol is present in the response\n",
    "    if '<' in response:\n",
    "        print(\"< detected\")\n",
    "        break\n",
    "\n",
    "    i+=1"
   ]
  },
  {
   "cell_type": "code",
   "execution_count": 6,
   "metadata": {},
   "outputs": [
    {
     "data": {
      "text/plain": [
       "'<STL_formulas.inside_cuboid(objects[\"chest\"]).eventually(0, 20) & STL_formulas.inside_cuboid(objects[\"chest\"]).always(0, 20)>'"
      ]
     },
     "execution_count": 6,
     "metadata": {},
     "output_type": "execute_result"
    }
   ],
   "source": [
    "final_response = messages[-1][\"content\"]\n",
    "final_response"
   ]
  },
  {
   "cell_type": "code",
   "execution_count": 8,
   "metadata": {},
   "outputs": [],
   "source": [
    "def extract_specs(response):\n",
    "    response = response\n",
    "    specs = []\n",
    "    start = 0\n",
    "    while True:\n",
    "        start = response.find(\"<\", start)\n",
    "        if start == -1:\n",
    "            break\n",
    "        end = response.find(\">\", start)\n",
    "        specs.append(response[start+1:end])\n",
    "        start = end\n",
    "    return specs"
   ]
  },
  {
   "cell_type": "code",
   "execution_count": 10,
   "metadata": {},
   "outputs": [
    {
     "name": "stdout",
     "output_type": "stream",
     "text": [
      "['STL_formulas.inside_cuboid(objects[\"chest\"]).eventually(0, 20) & STL_formulas.inside_cuboid(objects[\"chest\"]).always(0, 20)']\n"
     ]
    }
   ],
   "source": [
    "specs = extract_specs(final_response)\n",
    "print(specs)"
   ]
  }
 ],
 "metadata": {
  "kernelspec": {
   "display_name": "base",
   "language": "python",
   "name": "python3"
  },
  "language_info": {
   "codemirror_mode": {
    "name": "ipython",
    "version": 3
   },
   "file_extension": ".py",
   "mimetype": "text/x-python",
   "name": "python",
   "nbconvert_exporter": "python",
   "pygments_lexer": "ipython3",
   "version": "3.9.12"
  }
 },
 "nbformat": 4,
 "nbformat_minor": 2
}
