{
 "cells": [
  {
   "cell_type": "code",
   "execution_count": 13,
   "metadata": {},
   "outputs": [],
   "source": [
    "from pid_edited_pipeline import run\n",
    "import numpy as np\n",
    "import matplotlib.pyplot as plt\n",
    "from mpl_toolkits.mplot3d import Axes3D\n",
    "from scenarios import *\n",
    "from NL_to_STL import *\n",
    "from spec_check import *\n",
    "from visualization import *"
   ]
  },
  {
   "cell_type": "code",
   "execution_count": 14,
   "metadata": {},
   "outputs": [],
   "source": [
    "# Parameters\n",
    "max_acc = 10                            # maximum acceleration in m/s^2\n",
    "max_speed = 0.5                         # maximum speed in m/s\n",
    "T = 20                                  # time horizon in seconds \n",
    "dt = 0.5                                # time step in seconds\n",
    "N = int(T/dt)                           # total number of time steps\n",
    "scenario = \"treasure_hunt\"              # scenario: \"reach_avoid\", \"narrow_maze\", or \"treasure_hunt\""
   ]
  },
  {
   "cell_type": "code",
   "execution_count": 15,
   "metadata": {},
   "outputs": [
    {
     "name": "stdout",
     "output_type": "stream",
     "text": [
      "x0:  [ 3.  -4.   0.5  0.   0.   0. ]\n"
     ]
    }
   ],
   "source": [
    "# Set up scenario\n",
    "scenarios = Scenarios()\n",
    "objects = scenarios.get_objects(scenario)\n",
    "x0 = scenarios.get_starting_state(scenario)\n",
    "print(\"x0: \", x0)"
   ]
  },
  {
   "cell_type": "code",
   "execution_count": 16,
   "metadata": {},
   "outputs": [
    {
     "name": "stdout",
     "output_type": "stream",
     "text": [
      "spec:  STL_formulas.inside_cuboid(objects[\"door_key\"]).eventually(0, 40) & STL_formulas.outside_cuboid(objects[\"west_inside_wall\"]).always(0, 40) & STL_formulas.outside_cuboid(objects[\"above_door_wall\"]).always(0, 40) & STL_formulas.outside_cuboid(objects[\"north_mid_inside_wall\"]).always(0, 40) & STL_formulas.outside_cuboid(objects[\"south_mid_inside_wall\"]).always(0, 40) & STL_formulas.outside_cuboid(objects[\"NE_inside_wall\"]).always(0, 40) & STL_formulas.outside_cuboid(objects[\"chest\"]).always(0, 40) & STL_formulas.inside_cuboid(objects[\"region_bounds\"]).always(0, 40)\n"
     ]
    }
   ],
   "source": [
    "translator = NL_to_STL(objects, N, dt, print_instructions=True)\n",
    "spec = 'STL_formulas.inside_cuboid(objects[\"door_key\"]).eventually(0, 40) & STL_formulas.outside_cuboid(objects[\"west_inside_wall\"]).always(0, 40) & STL_formulas.outside_cuboid(objects[\"above_door_wall\"]).always(0, 40) & STL_formulas.outside_cuboid(objects[\"north_mid_inside_wall\"]).always(0, 40) & STL_formulas.outside_cuboid(objects[\"south_mid_inside_wall\"]).always(0, 40) & STL_formulas.outside_cuboid(objects[\"NE_inside_wall\"]).always(0, 40) & STL_formulas.outside_cuboid(objects[\"chest\"]).always(0, 40) & STL_formulas.inside_cuboid(objects[\"region_bounds\"]).always(0, 40)'\n",
    "print(\"spec: \", spec)"
   ]
  },
  {
   "cell_type": "code",
   "execution_count": 17,
   "metadata": {},
   "outputs": [
    {
     "name": "stdout",
     "output_type": "stream",
     "text": [
      "spec used in the solver:  STL_formulas.inside_cuboid(objects[\"door_key\"]).eventually(0, 40) & STL_formulas.outside_cuboid(objects[\"west_inside_wall\"]).always(0, 40) & STL_formulas.outside_cuboid(objects[\"above_door_wall\"]).always(0, 40) & STL_formulas.outside_cuboid(objects[\"north_mid_inside_wall\"]).always(0, 40) & STL_formulas.outside_cuboid(objects[\"south_mid_inside_wall\"]).always(0, 40) & STL_formulas.outside_cuboid(objects[\"NE_inside_wall\"]).always(0, 40) & STL_formulas.outside_cuboid(objects[\"chest\"]).always(0, 40) & STL_formulas.inside_cuboid(objects[\"region_bounds\"]).always(0, 40)\n",
      "<class 'gurobipy.MQuadExpr'>\n"
     ]
    }
   ],
   "source": [
    "solver = STLSolver(spec, objects, x0, T)\n",
    "x,u = solver.generate_trajectory(dt, max_acc, max_speed, verbose=False, include_dynamics=True)\n",
    "spec_checker = Spec_checker(objects, x, N, dt)\n",
    "inside_objects_array = spec_checker.get_inside_objects_array()\n",
    "# visualizer = Visualizer(x, objects, animate=False)\n",
    "# fig, ax = visualizer.visualize_trajectory()\n",
    "# plt.pause(1)\n",
    "# fig, ax = spec_checker.visualize_spec(inside_objects_array)\n",
    "# plt.pause(1)"
   ]
  },
  {
   "cell_type": "code",
   "execution_count": 18,
   "metadata": {},
   "outputs": [
    {
     "name": "stdout",
     "output_type": "stream",
     "text": [
      "waypoints shape:  (41, 3)\n"
     ]
    }
   ],
   "source": [
    "waypoints = x[:3].T\n",
    "print(\"waypoints shape: \", waypoints.shape)"
   ]
  },
  {
   "cell_type": "code",
   "execution_count": 19,
   "metadata": {},
   "outputs": [
    {
     "data": {
      "text/plain": [
       "(241, 3)"
      ]
     },
     "execution_count": 19,
     "metadata": {},
     "output_type": "execute_result"
    }
   ],
   "source": [
    "N_waypoints = waypoints.shape[0]\n",
    "N_extra_points = 5 # extra waypoints to add between waypoints linearly\n",
    "\n",
    "# Add extra waypoints\n",
    "total_points = N_waypoints + (N_waypoints-1)*N_extra_points\n",
    "TARGET_POS = np.zeros((total_points,3))\n",
    "TARGET_POS[0] = waypoints[0]\n",
    "for i in range(N_waypoints-1):\n",
    "    # print(\"i: \", i, \". (1+N_extra_points)*i: \", (1+N_extra_points)*i)\n",
    "    TARGET_POS[(1+N_extra_points)*i] = waypoints[i]\n",
    "    # print(\"TARGET_POS: \", TARGET_POS[(1+N_extra_points)*i])\n",
    "    for j in range(N_extra_points+1):\n",
    "        # print(\"j: \", j, \". (1+N_extra_points)*i + j: \", (1+N_extra_points)*i + j + 1)\n",
    "        k = (j+1)/(N_extra_points+1)\n",
    "        TARGET_POS[(1+N_extra_points)*i + j] = (1-k)*waypoints[i] + k*waypoints[i+1]\n",
    "        # print(\"TARGET_POS: \", TARGET_POS[(1+N_extra_points)*i + j])\n",
    "\n",
    "TARGET_POS.shape\n"
   ]
  },
  {
   "cell_type": "code",
   "execution_count": 20,
   "metadata": {},
   "outputs": [],
   "source": [
    "T = 20\n",
    "INIT_RPYS = np.array([[0, 0, 0]])"
   ]
  },
  {
   "cell_type": "code",
   "execution_count": 23,
   "metadata": {},
   "outputs": [
    {
     "name": "stdout",
     "output_type": "stream",
     "text": [
      "[INFO] BaseAviary.__init__() loaded parameters from the drone's .urdf:\n",
      "[INFO] m 0.027000, L 0.039700,\n",
      "[INFO] ixx 0.000024, iyy 0.000024, izz 0.000032,\n",
      "[INFO] kf 0.000000, km 0.000000,\n",
      "[INFO] t2w 2.250000, max_speed_kmh 30.000000,\n",
      "[INFO] gnd_eff_coeff 11.368590, prop_radius 0.023135,\n",
      "[INFO] drag_xy_coeff 0.000001, drag_z_coeff 0.000001,\n",
      "[INFO] dw_coeff_1 2267.180000, dw_coeff_2 0.160000, dw_coeff_3 -0.110000\n",
      "viewMatrix (0.9396926760673523, 0.0, 0.3420201241970062, 0.0, 0.3420201241970062, 0.0, -0.9396926760673523, 0.0, -0.0, 1.0000001192092896, -0.0, 0.0, -0.0, -0.0, -13.000000953674316, 1.0)\n",
      "projectionMatrix (0.7499999403953552, 0.0, 0.0, 0.0, 0.0, 1.0, 0.0, 0.0, 0.0, 0.0, -1.0000200271606445, -1.0, 0.0, 0.0, -0.02000020071864128, 0.0)\n"
     ]
    }
   ],
   "source": [
    "run(waypoints=TARGET_POS, \n",
    "    initial_rpys=INIT_RPYS,    \n",
    "    objects=objects,\n",
    "    duration_sec=T,\n",
    ")"
   ]
  },
  {
   "cell_type": "code",
   "execution_count": null,
   "metadata": {},
   "outputs": [],
   "source": []
  }
 ],
 "metadata": {
  "kernelspec": {
   "display_name": "droneGPT_env",
   "language": "python",
   "name": "python3"
  },
  "language_info": {
   "codemirror_mode": {
    "name": "ipython",
    "version": 3
   },
   "file_extension": ".py",
   "mimetype": "text/x-python",
   "name": "python",
   "nbconvert_exporter": "python",
   "pygments_lexer": "ipython3",
   "version": "3.10.14"
  }
 },
 "nbformat": 4,
 "nbformat_minor": 2
}
