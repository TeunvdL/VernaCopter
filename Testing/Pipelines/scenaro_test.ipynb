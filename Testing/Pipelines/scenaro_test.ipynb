{
 "cells": [
  {
   "cell_type": "code",
   "execution_count": 1,
   "metadata": {},
   "outputs": [],
   "source": [
    "#test scenarios.py\n",
    "from scenarios import *"
   ]
  },
  {
   "cell_type": "code",
   "execution_count": 14,
   "metadata": {},
   "outputs": [],
   "source": [
    "scenarios = Scenarios()\n",
    "scenario = \"treasure_hunt\" # \"reach_avoid\", \"narrow_maze\", \"treasure_hunt\"\n",
    "objects_from_scenarios = scenarios.get_objects(scenario)\n",
    "x0 = scenarios.get_starting_state(scenario)"
   ]
  },
  {
   "cell_type": "code",
   "execution_count": 15,
   "metadata": {},
   "outputs": [],
   "source": [
    "objects_from_main = {\"door_key\" : (3.75, 4.75, 3.75, 4.75, 1., 2.),\n",
    "           \"chest\": (-4.25, -3, -4.5, -3.75, 0., 0.75),\n",
    "           \"door\": (0., 0.5, -2.5, -1, 0., 2.5),\n",
    "           \"region_bounds\": (-5., 5., -5., 5., 0., 3.),\n",
    "           \"NE_inside_wall\": (2., 5., 3., 3.5, 0., 3.),\n",
    "           \"south_mid_inside_wall\": (0., 0.5, -5., -2.5, 0., 3.),\n",
    "           \"north_mid_inside_wall\": (0., 0.5, -1., 5., 0., 3.),\n",
    "           \"west_inside_wall\": (-2.25, -1.75, -5., 3.5, 0., 3.),\n",
    "           \"above_door_wall\": (0., 0.5, -2.5, -1, 2.5, 3.),\n",
    "           }"
   ]
  },
  {
   "cell_type": "code",
   "execution_count": 16,
   "metadata": {},
   "outputs": [
    {
     "data": {
      "text/plain": [
       "({'door_key': (3.75, 4.75, 3.75, 4.75, 1.0, 2.0),\n",
       "  'chest': (-4.25, -3, -4.5, -3.75, 0.0, 0.75),\n",
       "  'door': (0.0, 0.5, -2.5, -1, 0.0, 2.5),\n",
       "  'region_bounds': (-5.0, 5.0, -5.0, 5.0, 0.0, 3.0),\n",
       "  'NE_inside_wall': (2.0, 5.0, 3.0, 3.5, 0.0, 3.0),\n",
       "  'south_mid_inside_wall': (0.0, 0.5, -5.0, -2.5, 0.0, 3.0),\n",
       "  'north_mid_inside_wall': (0.0, 0.5, -1.0, 5.0, 0.0, 3.0),\n",
       "  'west_inside_wall': (-2.25, -1.75, -5.0, 3.5, 0.0, 3.0),\n",
       "  'above_door_wall': (0.0, 0.5, -2.5, -1, 2.5, 3.0)},)"
      ]
     },
     "execution_count": 16,
     "metadata": {},
     "output_type": "execute_result"
    }
   ],
   "source": [
    "objects_from_scenarios"
   ]
  },
  {
   "cell_type": "code",
   "execution_count": 17,
   "metadata": {},
   "outputs": [
    {
     "data": {
      "text/plain": [
       "{'door_key': (3.75, 4.75, 3.75, 4.75, 1.0, 2.0),\n",
       " 'chest': (-4.25, -3, -4.5, -3.75, 0.0, 0.75),\n",
       " 'door': (0.0, 0.5, -2.5, -1, 0.0, 2.5),\n",
       " 'region_bounds': (-5.0, 5.0, -5.0, 5.0, 0.0, 3.0),\n",
       " 'NE_inside_wall': (2.0, 5.0, 3.0, 3.5, 0.0, 3.0),\n",
       " 'south_mid_inside_wall': (0.0, 0.5, -5.0, -2.5, 0.0, 3.0),\n",
       " 'north_mid_inside_wall': (0.0, 0.5, -1.0, 5.0, 0.0, 3.0),\n",
       " 'west_inside_wall': (-2.25, -1.75, -5.0, 3.5, 0.0, 3.0),\n",
       " 'above_door_wall': (0.0, 0.5, -2.5, -1, 2.5, 3.0)}"
      ]
     },
     "execution_count": 17,
     "metadata": {},
     "output_type": "execute_result"
    }
   ],
   "source": [
    "objects_from_main"
   ]
  },
  {
   "cell_type": "code",
   "execution_count": 2,
   "metadata": {},
   "outputs": [],
   "source": [
    "scenario_list = [\"reach_avoid\", \"narrow_maze\", \"treasure_hunt\"]"
   ]
  },
  {
   "cell_type": "code",
   "execution_count": 3,
   "metadata": {},
   "outputs": [],
   "source": [
    "scenarios = Scenarios()"
   ]
  },
  {
   "cell_type": "code",
   "execution_count": 7,
   "metadata": {},
   "outputs": [],
   "source": [
    "objects = scenarios.get_objects(scenario_list[0])"
   ]
  },
  {
   "cell_type": "code",
   "execution_count": 8,
   "metadata": {},
   "outputs": [
    {
     "data": {
      "text/plain": [
       "({'goal': (4.0, 5.0, 4.0, 5.0, 4.0, 5.0),\n",
       "  'obstacle1': (-3.0, -1.0, 1.5, -0.5, 0.5, 2.5),\n",
       "  'obstacle2': (-4.5, -3.0, 0.0, 2.25, 0.5, 2.0),\n",
       "  'obstacle3': (-2.0, -1.0, 4.0, 5.0, 3.5, 4.5),\n",
       "  'obstacle4': (3.0, 4.0, -3.5, -2.5, 1.0, 2.0),\n",
       "  'obstacle5': (4.0, 5.0, 0.0, 1.0, 2.0, 3.5),\n",
       "  'obstacle6': (2.0, 3.5, 1.5, 2.5, 3.75, 5.0)},)"
      ]
     },
     "execution_count": 8,
     "metadata": {},
     "output_type": "execute_result"
    }
   ],
   "source": [
    "objects"
   ]
  },
  {
   "cell_type": "code",
   "execution_count": null,
   "metadata": {},
   "outputs": [],
   "source": []
  }
 ],
 "metadata": {
  "kernelspec": {
   "display_name": "base",
   "language": "python",
   "name": "python3"
  },
  "language_info": {
   "codemirror_mode": {
    "name": "ipython",
    "version": 3
   },
   "file_extension": ".py",
   "mimetype": "text/x-python",
   "name": "python",
   "nbconvert_exporter": "python",
   "pygments_lexer": "ipython3",
   "version": "3.9.12"
  }
 },
 "nbformat": 4,
 "nbformat_minor": 2
}
