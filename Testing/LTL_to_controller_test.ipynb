{
 "cells": [
  {
   "cell_type": "code",
   "execution_count": 1,
   "metadata": {},
   "outputs": [
    {
     "name": "stderr",
     "output_type": "stream",
     "text": [
      "No handlers could be found for logger \"polytope.solvers\"\n"
     ]
    }
   ],
   "source": [
    "from tulip import spec, synth"
   ]
  },
  {
   "cell_type": "code",
   "execution_count": 2,
   "metadata": {},
   "outputs": [],
   "source": [
    "# Define the environment variables\n",
    "env_vars = set()\n",
    "\n",
    "# Define the system variables\n",
    "sys_vars = {'x', 'y', 'z'}  # Drone position in 3D space\n",
    "sys_init = {'x = 0', 'y = 0', 'z = 0'}  # Initial position\n",
    "\n",
    "# Define the system dynamics (simplified)\n",
    "sys_dyn = {'x': 'x + vx', 'y': 'y + vy', 'z': 'z + vz'}\n",
    "\n",
    "# Define the environment assumptions (simplified)\n",
    "env_assumptions = {'G(vx >= -1)', 'G(vx <= 1)', 'G(vy >= -1)', 'G(vy <= 1)', 'G(vz >= -1)', 'G(vz <= 1)'}"
   ]
  },
  {
   "cell_type": "code",
   "execution_count": 3,
   "metadata": {},
   "outputs": [],
   "source": [
    "# Define the LTL specification for drone mission\n",
    "ltl_formula = 'G((x - x_goal)^2 + (y - y_goal)^2 + (z - z_goal)^2 <= r^2)'"
   ]
  },
  {
   "cell_type": "code",
   "execution_count": 15,
   "metadata": {},
   "outputs": [
    {
     "ename": "NameError",
     "evalue": "name 'disc_dynamics' is not defined",
     "output_type": "error",
     "traceback": [
      "\u001b[1;31m\u001b[0m",
      "\u001b[1;31mNameError\u001b[0mTraceback (most recent call last)",
      "\u001b[1;32m<ipython-input-15-a994105fcc40>\u001b[0m in \u001b[0;36m<module>\u001b[1;34m()\u001b[0m\n\u001b[0;32m      8\u001b[0m \u001b[1;33m\u001b[0m\u001b[0m\n\u001b[0;32m      9\u001b[0m \u001b[1;31m# Synthesize the controller\u001b[0m\u001b[1;33m\u001b[0m\u001b[1;33m\u001b[0m\u001b[0m\n\u001b[1;32m---> 10\u001b[1;33m \u001b[0mctrl\u001b[0m \u001b[1;33m=\u001b[0m \u001b[0msynth\u001b[0m\u001b[1;33m.\u001b[0m\u001b[0msynthesize\u001b[0m\u001b[1;33m(\u001b[0m\u001b[0mspecs\u001b[0m\u001b[1;33m,\u001b[0m \u001b[0msys\u001b[0m\u001b[1;33m=\u001b[0m\u001b[0mdisc_dynamics\u001b[0m\u001b[1;33m.\u001b[0m\u001b[0mts\u001b[0m\u001b[1;33m,\u001b[0m \u001b[0mignore_sys_init\u001b[0m\u001b[1;33m=\u001b[0m\u001b[0mTrue\u001b[0m\u001b[1;33m)\u001b[0m\u001b[1;33m\u001b[0m\u001b[0m\n\u001b[0m\u001b[0;32m     11\u001b[0m \u001b[1;33m\u001b[0m\u001b[0m\n\u001b[0;32m     12\u001b[0m \u001b[1;33m\u001b[0m\u001b[0m\n",
      "\u001b[1;31mNameError\u001b[0m: name 'disc_dynamics' is not defined"
     ]
    }
   ],
   "source": [
    "# Create the GR(1) specification\n",
    "specs = spec.GRSpec(set(), sys_vars, [], sys_init, sys_dyn)  # Set env_vars as an empty set\n",
    "additional_env_init = ['x = 0', 'y = 0', 'z = 0']\n",
    "specs.env_init.extend(additional_env_init)  # Additional environment initialization\n",
    "specs.env_vars.update({'vx', 'vy', 'vz'})  # Add velocity variables to env_vars\n",
    "specs.env_init = env_assumptions  # Environment assumptions\n",
    "specs.sys_prog = {ltl_formula}  # LTL specification\n",
    "\n",
    "# Synthesize the controller\n",
    "ctrl = synth.synthesize(specs, sys=disc_dynamics.ts, ignore_sys_init=True)\n",
    "\n",
    "\n",
    "# If a controller is synthesized, it means the drone can satisfy the specifications\n",
    "if ctrl is not None:\n",
    "    # Save the controller\n",
    "    ctrl.save('drone_controller.png')\n",
    "    ctrl.save('drone_controller.pdf')\n",
    "    print(ctrl)\n",
    "else:\n",
    "    print(\"No controller synthesized. Specifications are not realizable.\")\n"
   ]
  },
  {
   "cell_type": "code",
   "execution_count": null,
   "metadata": {},
   "outputs": [],
   "source": []
  },
  {
   "cell_type": "code",
   "execution_count": null,
   "metadata": {},
   "outputs": [],
   "source": []
  }
 ],
 "metadata": {
  "kernelspec": {
   "display_name": "base",
   "language": "python",
   "name": "python3"
  },
  "language_info": {
   "codemirror_mode": {
    "name": "ipython",
    "version": 2
   },
   "file_extension": ".py",
   "mimetype": "text/x-python",
   "name": "python",
   "nbconvert_exporter": "python",
   "pygments_lexer": "ipython2",
   "version": "2.7.18"
  }
 },
 "nbformat": 4,
 "nbformat_minor": 2
}
