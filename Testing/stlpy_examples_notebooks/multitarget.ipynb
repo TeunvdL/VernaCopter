{
 "cells": [
  {
   "cell_type": "code",
   "execution_count": 1,
   "metadata": {},
   "outputs": [
    {
     "name": "stdout",
     "output_type": "stream",
     "text": [
      "WARNING: pydrake import failed, Drake-based solvers disabled.\n",
      "         Install drake (https://drake.mit.edu/installation.html)\n",
      "         to use the Drake-based solvers.\n"
     ]
    }
   ],
   "source": [
    "import numpy as np\n",
    "import matplotlib.pyplot as plt\n",
    "from stlpy.benchmarks import RandomMultitarget\n",
    "from stlpy.solvers import *"
   ]
  },
  {
   "cell_type": "code",
   "execution_count": 2,
   "metadata": {},
   "outputs": [],
   "source": [
    "# Specification Parameters\n",
    "num_obstacles = 1\n",
    "num_groups = 5\n",
    "targets_per_group = 2\n",
    "T = 25\n",
    "\n",
    "# Define the specification and system dynamics\n",
    "scenario = RandomMultitarget(\n",
    "        num_obstacles, num_groups, targets_per_group, T, seed=0)\n",
    "spec = scenario.GetSpecification()\n",
    "sys = scenario.GetSystem()\n",
    "\n",
    "# Specify any additional running cost (this helps the numerics in\n",
    "# a gradient-based method)\n",
    "Q = 1e-1*np.diag([0,0,1,1])   # just penalize high velocities\n",
    "R = 1e-1*np.eye(2)\n",
    "\n",
    "# Initial state\n",
    "x0 = np.array([5.0,2.0,0,0])"
   ]
  },
  {
   "cell_type": "code",
   "execution_count": 3,
   "metadata": {},
   "outputs": [
    {
     "name": "stdout",
     "output_type": "stream",
     "text": [
      "Set parameter Username\n",
      "Academic license - for non-commercial use only - expires 2024-11-29\n",
      "Setting up optimization problem...\n",
      "Setup complete in 3.3146896362304688 seconds.\n",
      "<class 'gurobipy.MQuadExpr'>\n",
      "Gurobi Optimizer version 10.0.3 build v10.0.3rc0 (win64)\n",
      "\n",
      "CPU model: 11th Gen Intel(R) Core(TM) i7-11800H @ 2.30GHz, instruction set [SSE2|AVX|AVX2|AVX512]\n",
      "Thread count: 8 physical cores, 16 logical processors, using up to 16 threads\n",
      "\n",
      "Optimize a model with 4671 rows, 3600 columns and 10601 nonzeros\n",
      "Model fingerprint: 0xf70e30a2\n",
      "Model has 104 quadratic objective terms\n",
      "Variable types: 2456 continuous, 1144 integer (1144 binary)\n",
      "Coefficient statistics:\n",
      "  Matrix range     [1e+00, 1e+03]\n",
      "  Objective range  [1e+00, 1e+00]\n",
      "  QObjective range [2e-03, 2e-03]\n",
      "  Bounds range     [1e+00, 1e+00]\n",
      "  RHS range        [5e-01, 1e+03]\n",
      "Presolve removed 3666 rows and 3158 columns\n",
      "Presolve time: 0.01s\n",
      "Presolved: 1005 rows, 442 columns, 3199 nonzeros\n",
      "Presolved model has 100 quadratic objective terms\n",
      "Variable types: 144 continuous, 298 integer (298 binary)\n",
      "Found heuristic solution: objective 0.0140916\n",
      "\n",
      "Root relaxation: objective -4.436704e+00, 1666 iterations, 0.02 seconds (0.05 work units)\n",
      "\n",
      "    Nodes    |    Current Node    |     Objective Bounds      |     Work\n",
      " Expl Unexpl |  Obj  Depth IntInf | Incumbent    BestBd   Gap | It/Node Time\n",
      "\n",
      "     0     0   -4.43670    0  115    0.01409   -4.43670      -     -    0s\n",
      "H    0     0                       0.0137628   -4.43670      -     -    0s\n",
      "     0     0   -4.43670    0   85    0.01376   -4.43670      -     -    0s\n",
      "H    0     0                      -0.0587748   -4.43670  7449%     -    0s\n",
      "     0     0   -4.43670    0   86   -0.05877   -4.43670  7449%     -    0s\n",
      "     0     0   -4.43669    0   86   -0.05877   -4.43669  7449%     -    0s\n",
      "H    0     0                      -0.0591607   -4.43653  7399%     -    0s\n",
      "     0     2   -4.43653    0   86   -0.05916   -4.43653  7399%     -    0s\n",
      "H   27    31                      -0.0592727   -4.41337  7346%   120    0s\n",
      "H   30    31                      -0.0857460   -4.41244  5046%   109    0s\n",
      "H   31    31                      -0.1039623   -4.41244  4144%   105    0s\n",
      "H   34    31                      -0.1041383   -4.41244  4137%  97.0    0s\n",
      "H   75    83                      -0.1058130   -4.40627  4064%  47.4    0s\n",
      "H   79    83                      -0.1069638   -4.40333  4017%  45.3    0s\n",
      "H  114   129                      -0.1076697   -4.39705  3984%  33.7    0s\n",
      "H  116   129                      -0.1077684   -4.39705  3980%  34.3    0s\n",
      "H  124   129                      -0.1795672   -4.39705  2349%  32.5    0s\n",
      "H  167   195                      -0.1815068   -4.39705  2323%  25.9    0s\n",
      "H  182   195                      -0.1822868   -4.39705  2312%  24.6    0s\n",
      "H  207   229                      -0.3975089   -4.39705  1006%  22.7    0s\n",
      "H  255   238                      -0.3984215   -4.39705  1004%  20.2    0s\n",
      "H  431   339                      -0.3986144   -4.39705  1003%  19.7    0s\n",
      "H  431   339                      -0.4009240   -4.39705   997%  19.7    0s\n",
      "H  513   407                      -0.4241716   -4.39705   937%  18.1    0s\n",
      "*  679   475              37      -0.4440964   -4.33714   877%  17.6    0s\n",
      "H  682   475                      -0.4465494   -4.33714   871%  17.6    0s\n",
      "H  797   478                      -0.4465620   -4.33714   871%  17.3    0s\n",
      "H  879   539                      -0.4466766   -4.28269   859%  18.2    0s\n",
      "H  883   536                      -0.4475310   -4.28269   857%  18.1    0s\n",
      "H 1007   558                      -0.4640373   -4.25786   818%  18.4    0s\n",
      "* 1301   695              68      -0.4778782   -3.79619   694%  18.4    0s\n",
      "* 1307   689              69      -0.4804576   -3.79619   690%  18.4    0s\n",
      "* 1308   689              69      -0.4804963   -3.79619   690%  18.3    0s\n",
      "* 1762   829              52      -0.4811586   -2.67080   455%  18.2    0s\n",
      "* 2800  1166              65      -0.4815571   -0.68508  42.3%  18.0    0s\n",
      "H 5153  1743                      -0.4824924   -0.49914  3.45%  16.6    1s\n",
      "H 6166  1752                      -0.4851384   -0.49869  2.79%  16.4    1s\n",
      "H 6323  1757                      -0.4856534   -0.49869  2.68%  16.4    1s\n",
      "H 6472  1688                      -0.4860436   -0.49869  2.60%  16.4    1s\n",
      "H 6481  1672                      -0.4863377   -0.49869  2.54%  16.4    1s\n",
      "H 6481  1613                      -0.4872095   -0.49869  2.36%  16.4    1s\n",
      "H 6797  1630                      -0.4876308   -0.49845  2.22%  16.3    1s\n",
      "H 7998  1905                      -0.4876982   -0.49763  2.04%  16.2    1s\n",
      "H 9101  1941                      -0.4877783   -0.49751  2.00%  16.9    2s\n",
      "\n",
      "Cutting planes:\n",
      "  Learned: 1\n",
      "\n",
      "Explored 28739 nodes (401074 simplex iterations) in 4.88 seconds (5.23 work units)\n",
      "Thread count was 16 (of 16 available processors)\n",
      "\n",
      "Solution count 10: -0.487778 -0.487698 -0.487631 ... -0.481159\n",
      "\n",
      "Optimal solution found (tolerance 1.00e-04)\n",
      "Best objective -4.877783148028e-01, best bound -4.877783148028e-01, gap 0.0000%\n",
      "\n",
      "Optimal Solution Found!\n",
      "\n",
      "Solve time:  4.88100004196167\n",
      "Optimal robustness:  0.5\n",
      "\n"
     ]
    }
   ],
   "source": [
    "# Define the solver\n",
    "solver = GurobiMICPSolver(spec, sys, x0, T, robustness_cost=True)\n",
    "#solver = DrakeMICPSolver(spec, sys, x0, T, robustness_cost=True)\n",
    "#solver = DrakeSos1Solver(spec, sys, x0, T, robustness_cost=True)\n",
    "\n",
    "# Set bounds on state and control variables\n",
    "u_min = np.array([-0.5,-0.5])\n",
    "u_max = np.array([0.5, 0.5])\n",
    "x_min = np.array([0.0, 0.0, -1.0, -1.0])\n",
    "x_max = np.array([10.0, 10.0, 1.0, 1.0])\n",
    "solver.AddControlBounds(u_min, u_max)\n",
    "solver.AddStateBounds(x_min, x_max)\n",
    "\n",
    "# Add quadratic running cost (optional)\n",
    "solver.AddQuadraticCost(0.01*Q,0.01*R)\n",
    "\n",
    "# Solve the optimization problem\n",
    "x, u, _, _ = solver.Solve()"
   ]
  },
  {
   "cell_type": "code",
   "execution_count": 4,
   "metadata": {},
   "outputs": [
    {
     "data": {
      "image/png": "[encoded data removed]",
      "text/plain": [
       "<Figure size 640x480 with 1 Axes>"
      ]
     },
     "metadata": {},
     "output_type": "display_data"
    }
   ],
   "source": [
    "if x is not None:\n",
    "    # Plot the solution\n",
    "    ax = plt.gca()\n",
    "    scenario.add_to_plot(ax)\n",
    "    plt.scatter(*x[:2,:])\n",
    "    plt.show()"
   ]
  }
 ],
 "metadata": {
  "kernelspec": {
   "display_name": "base",
   "language": "python",
   "name": "python3"
  },
  "language_info": {
   "codemirror_mode": {
    "name": "ipython",
    "version": 3
   },
   "file_extension": ".py",
   "mimetype": "text/x-python",
   "name": "python",
   "nbconvert_exporter": "python",
   "pygments_lexer": "ipython3",
   "version": "3.9.12"
  }
 },
 "nbformat": 4,
 "nbformat_minor": 2
}
