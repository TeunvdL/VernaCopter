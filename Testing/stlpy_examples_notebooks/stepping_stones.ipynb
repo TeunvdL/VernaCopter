{
 "cells": [
  {
   "cell_type": "code",
   "execution_count": 1,
   "metadata": {},
   "outputs": [
    {
     "name": "stdout",
     "output_type": "stream",
     "text": [
      "WARNING: pydrake import failed, Drake-based solvers disabled.\n",
      "         Install drake (https://drake.mit.edu/installation.html)\n",
      "         to use the Drake-based solvers.\n"
     ]
    }
   ],
   "source": [
    "import numpy as np\n",
    "import matplotlib.pyplot as plt\n",
    "from stlpy.benchmarks import SteppingStones\n",
    "from stlpy.solvers import *"
   ]
  },
  {
   "cell_type": "code",
   "execution_count": 2,
   "metadata": {},
   "outputs": [],
   "source": [
    "# Specification Parameters\n",
    "num_stones = 15\n",
    "T = 15\n",
    "\n",
    "# Define the specification and system dynamics\n",
    "scenario = SteppingStones(num_stones, T, seed=1)\n",
    "spec = scenario.GetSpecification()\n",
    "spec.simplify()\n",
    "sys = scenario.GetSystem()\n",
    "\n",
    "# Specify any additional running cost (this helps the numerics in\n",
    "# a gradient-based method)\n",
    "Q = 1e-1*np.diag([0,0,1,1])   # just penalize high velocities\n",
    "R = 1e-1*np.eye(2)\n",
    "\n",
    "# Initial state\n",
    "x0 = np.array([2.0,1.3,0,0])"
   ]
  },
  {
   "cell_type": "code",
   "execution_count": 3,
   "metadata": {},
   "outputs": [
    {
     "name": "stdout",
     "output_type": "stream",
     "text": [
      "Set parameter Username\n",
      "Academic license - for non-commercial use only - expires 2024-11-29\n",
      "Setting up optimization problem...\n",
      "Setup complete in 2.560824155807495 seconds.\n",
      "<class 'gurobipy.MQuadExpr'>\n",
      "Gurobi Optimizer version 10.0.3 build v10.0.3rc0 (win64)\n",
      "\n",
      "CPU model: 11th Gen Intel(R) Core(TM) i7-11800H @ 2.30GHz, instruction set [SSE2|AVX|AVX2|AVX512]\n",
      "Thread count: 8 physical cores, 16 logical processors, using up to 16 threads\n",
      "\n",
      "Optimize a model with 3460 rows, 2515 columns and 8045 nonzeros\n",
      "Model fingerprint: 0xa50584f7\n",
      "Model has 64 quadratic objective terms\n",
      "Variable types: 1491 continuous, 1024 integer (1024 binary)\n",
      "Coefficient statistics:\n",
      "  Matrix range     [1e+00, 1e+03]\n",
      "  Objective range  [1e+00, 1e+00]\n",
      "  QObjective range [2e-01, 2e-01]\n",
      "  Bounds range     [1e+00, 1e+00]\n",
      "  RHS range        [5e-01, 1e+03]\n",
      "Presolve removed 3018 rows and 2334 columns\n",
      "Presolve time: 0.02s\n",
      "Presolved: 442 rows, 181 columns, 1373 nonzeros\n",
      "Presolved model has 60 quadratic objective terms\n",
      "Variable types: 87 continuous, 94 integer (94 binary)\n",
      "Found heuristic solution: objective 1.1141663\n",
      "Found heuristic solution: objective 0.9475086\n",
      "\n",
      "Root relaxation: objective -3.207519e-01, 195 iterations, 0.00 seconds (0.00 work units)\n",
      "\n",
      "    Nodes    |    Current Node    |     Objective Bounds      |     Work\n",
      " Expl Unexpl |  Obj  Depth IntInf | Incumbent    BestBd   Gap | It/Node Time\n",
      "\n",
      "     0     0   -0.32075    0   55    0.94751   -0.32075   134%     -    0s\n",
      "     0     0   -0.28802    0   60    0.94751   -0.28802   130%     -    0s\n",
      "H    0     0                       0.8669164   -0.28802   133%     -    0s\n",
      "H    0     0                       0.8505213   -0.26575   131%     -    0s\n",
      "     0     0    0.04799    0   51    0.85052    0.04799  94.4%     -    0s\n",
      "H    0     0                       0.8178252    0.04799  94.1%     -    0s\n",
      "H    0     0                       0.7944566    0.04799  94.0%     -    0s\n",
      "H    0     0                       0.7131679    0.04799  93.3%     -    0s\n",
      "     0     0    0.04799    0   48    0.71317    0.04799  93.3%     -    0s\n",
      "     0     0    0.10959    0   44    0.71317    0.10959  84.6%     -    0s\n",
      "     0     0    0.14758    0   50    0.71317    0.14758  79.3%     -    0s\n",
      "     0     0    0.19180    0   49    0.71317    0.19180  73.1%     -    0s\n",
      "     0     0    0.23706    0   48    0.71317    0.23706  66.8%     -    0s\n",
      "     0     2    0.24082    0   48    0.71317    0.24082  66.2%     -    0s\n",
      "H   32    26                       0.7021697    0.24082  65.7%  55.1    0s\n",
      "H   67    57                       0.6998183    0.24082  65.6%  36.1    0s\n",
      "H  118    93                       0.6981812    0.24082  65.5%  28.1    0s\n",
      "H  127    93                       0.6979689    0.24082  65.5%  26.7    0s\n",
      "H  130    93                       0.6925590    0.24082  65.2%  26.4    0s\n",
      "H  174   147                       0.6880940    0.24082  65.0%  24.2    0s\n",
      "H  180   147                       0.6821105    0.24082  64.7%  23.9    0s\n",
      "*  230   155              28       0.6612232    0.24082  63.6%  20.5    0s\n",
      "H  262   177                       0.6561789    0.24082  63.3%  19.4    0s\n",
      "*  314   177              24       0.6527976    0.24082  63.1%  18.5    0s\n",
      "H  329   192                       0.6378737    0.24082  62.2%  18.9    0s\n",
      "*  366   192              27       0.6217567    0.24082  61.3%  19.3    0s\n",
      "\n",
      "Cutting planes:\n",
      "  Learned: 57\n",
      "  Gomory: 3\n",
      "  Cover: 100\n",
      "  Implied bound: 67\n",
      "  Clique: 14\n",
      "  MIR: 92\n",
      "  StrongCG: 5\n",
      "  RLT: 38\n",
      "  Relax-and-lift: 46\n",
      "\n",
      "Explored 1811 nodes (34337 simplex iterations) in 0.38 seconds (0.42 work units)\n",
      "Thread count was 16 (of 16 available processors)\n",
      "\n",
      "Solution count 10: 0.621757 0.637874 0.652798 ... 0.698181\n",
      "\n",
      "Optimal solution found (tolerance 1.00e-04)\n",
      "Best objective 6.217567130672e-01, best bound 6.217567130672e-01, gap 0.0000%\n",
      "\n",
      "Optimal Solution Found!\n",
      "\n",
      "Solve time:  0.37999987602233887\n",
      "Optimal robustness:  0.0\n",
      "\n"
     ]
    }
   ],
   "source": [
    "# Specify a solution strategy\n",
    "solver = GurobiMICPSolver(spec, sys, x0, T, robustness_cost=True)\n",
    "#solver = DrakeMICPSolver(spec, sys, x0, T, robustness_cost=True)\n",
    "#solver = DrakeSos1Solver(spec, sys, x0, T, robustness_cost=True)\n",
    "\n",
    "# Set bounds on state and control variables\n",
    "u_min = np.array([-0.5,-0.5])\n",
    "u_max = np.array([0.5, 0.5])\n",
    "x_min = np.array([0.0, 0.0, -1.0, -1.0])\n",
    "x_max = np.array([10.0, 10.0, 1.0, 1.0])\n",
    "solver.AddControlBounds(u_min, u_max)\n",
    "solver.AddStateBounds(x_min, x_max)\n",
    "\n",
    "# Add quadratic running cost (optional)\n",
    "solver.AddQuadraticCost(Q,R)\n",
    "\n",
    "# Solve the optimization problem\n",
    "x, u, _, _ = solver.Solve()"
   ]
  },
  {
   "cell_type": "code",
   "execution_count": 4,
   "metadata": {},
   "outputs": [
    {
     "data": {
      "image/png": "[encoded data removed]",
      "text/plain": [
       "<Figure size 640x480 with 1 Axes>"
      ]
     },
     "metadata": {},
     "output_type": "display_data"
    }
   ],
   "source": [
    "if x is not None:\n",
    "    # Plot the solution\n",
    "    ax = plt.gca()\n",
    "    scenario.add_to_plot(ax)\n",
    "    plt.scatter(*x[:2,:])\n",
    "    plt.show()"
   ]
  }
 ],
 "metadata": {
  "kernelspec": {
   "display_name": "base",
   "language": "python",
   "name": "python3"
  },
  "language_info": {
   "codemirror_mode": {
    "name": "ipython",
    "version": 3
   },
   "file_extension": ".py",
   "mimetype": "text/x-python",
   "name": "python",
   "nbconvert_exporter": "python",
   "pygments_lexer": "ipython3",
   "version": "3.9.12"
  }
 },
 "nbformat": 4,
 "nbformat_minor": 2
}
