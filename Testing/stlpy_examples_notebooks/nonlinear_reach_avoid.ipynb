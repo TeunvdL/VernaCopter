{
 "cells": [
  {
   "cell_type": "code",
   "execution_count": 1,
   "metadata": {},
   "outputs": [
    {
     "name": "stdout",
     "output_type": "stream",
     "text": [
      "WARNING: pydrake import failed, Drake-based solvers disabled.\n",
      "         Install drake (https://drake.mit.edu/installation.html)\n",
      "         to use the Drake-based solvers.\n"
     ]
    }
   ],
   "source": [
    "import numpy as np\n",
    "import matplotlib.pyplot as plt\n",
    "\n",
    "from stlpy.benchmarks import NonlinearReachAvoid\n",
    "from stlpy.solvers import *"
   ]
  },
  {
   "cell_type": "code",
   "execution_count": 2,
   "metadata": {},
   "outputs": [],
   "source": [
    "# Specification Parameters\n",
    "goal = (7.5, 8.5)  # goal center and radius\n",
    "goal_rad = 0.75\n",
    "obs = (3.5, 5)     # obstacle center and radius\n",
    "obs_rad = 1.5\n",
    "T = 15\n",
    "\n",
    "# Define the system and specification\n",
    "scenario = NonlinearReachAvoid(goal, goal_rad, obs, obs_rad, T)\n",
    "spec = scenario.GetSpecification()\n",
    "sys = scenario.GetSystem()\n",
    "\n",
    "# Specify any additional running cost (this helps the numerics in\n",
    "# a gradient-based method)\n",
    "Q = np.diag([0,0,0])\n",
    "R = 1e-3*np.eye(2)\n",
    "\n",
    "# Initial state\n",
    "x0 = np.array([1.0,2.0,0])"
   ]
  },
  {
   "cell_type": "code",
   "execution_count": 3,
   "metadata": {},
   "outputs": [
    {
     "ename": "NotImplementedError",
     "evalue": "This solver does not support control bounds!",
     "output_type": "error",
     "traceback": [
      "\u001b[1;31m---------------------------------------------------------------------------\u001b[0m",
      "\u001b[1;31mNotImplementedError\u001b[0m                       Traceback (most recent call last)",
      "Cell \u001b[1;32mIn[3], line 10\u001b[0m\n\u001b[0;32m      8\u001b[0m x_min \u001b[38;5;241m=\u001b[39m np\u001b[38;5;241m.\u001b[39marray([\u001b[38;5;241m-\u001b[39m\u001b[38;5;241m10.0\u001b[39m, \u001b[38;5;241m-\u001b[39m\u001b[38;5;241m10.0\u001b[39m, \u001b[38;5;241m-\u001b[39m\u001b[38;5;241m2\u001b[39m\u001b[38;5;241m*\u001b[39mnp\u001b[38;5;241m.\u001b[39mpi])\n\u001b[0;32m      9\u001b[0m x_max \u001b[38;5;241m=\u001b[39m np\u001b[38;5;241m.\u001b[39marray([\u001b[38;5;241m10.0\u001b[39m, \u001b[38;5;241m10.0\u001b[39m, \u001b[38;5;241m2\u001b[39m\u001b[38;5;241m*\u001b[39mnp\u001b[38;5;241m.\u001b[39mpi])\n\u001b[1;32m---> 10\u001b[0m \u001b[43msolver\u001b[49m\u001b[38;5;241;43m.\u001b[39;49m\u001b[43mAddControlBounds\u001b[49m\u001b[43m(\u001b[49m\u001b[43mu_min\u001b[49m\u001b[43m,\u001b[49m\u001b[43m \u001b[49m\u001b[43mu_max\u001b[49m\u001b[43m)\u001b[49m\n\u001b[0;32m     11\u001b[0m solver\u001b[38;5;241m.\u001b[39mAddStateBounds(x_min, x_max)\n\u001b[0;32m     13\u001b[0m \u001b[38;5;66;03m# Add quadratic running cost (optional)\u001b[39;00m\n",
      "File \u001b[1;32mc:\\Users\\iteun\\miniconda3\\lib\\site-packages\\stlpy\\solvers\\scipy\\gradient_solver.py:46\u001b[0m, in \u001b[0;36mScipyGradientSolver.AddControlBounds\u001b[1;34m(self, u_min, u_max)\u001b[0m\n\u001b[0;32m     45\u001b[0m \u001b[38;5;28;01mdef\u001b[39;00m \u001b[38;5;21mAddControlBounds\u001b[39m(\u001b[38;5;28mself\u001b[39m, u_min, u_max):\n\u001b[1;32m---> 46\u001b[0m     \u001b[38;5;28;01mraise\u001b[39;00m \u001b[38;5;167;01mNotImplementedError\u001b[39;00m(\u001b[38;5;124m\"\u001b[39m\u001b[38;5;124mThis solver does not support control bounds!\u001b[39m\u001b[38;5;124m\"\u001b[39m)\n",
      "\u001b[1;31mNotImplementedError\u001b[0m: This solver does not support control bounds!"
     ]
    }
   ],
   "source": [
    "# Choose a solver\n",
    "#solver = DrakeSmoothSolver(spec, sys, x0, T, k=2.0)\n",
    "solver = ScipyGradientSolver(spec, sys, x0, T)\n",
    "\n",
    "# Set bounds on state and control variables\n",
    "u_min = np.array([0,-5.0])\n",
    "u_max = np.array([10, 5.0])\n",
    "x_min = np.array([-10.0, -10.0, -2*np.pi])\n",
    "x_max = np.array([10.0, 10.0, 2*np.pi])\n",
    "solver.AddControlBounds(u_min, u_max)\n",
    "solver.AddStateBounds(x_min, x_max)\n",
    "\n",
    "# Add quadratic running cost (optional)\n",
    "solver.AddQuadraticCost(Q,R)\n",
    "\n",
    "# Solve the optimization problem\n",
    "x, u, _, _ = solver.Solve()"
   ]
  },
  {
   "cell_type": "code",
   "execution_count": null,
   "metadata": {},
   "outputs": [],
   "source": [
    "\n",
    "if x is not None:\n",
    "    # Plot the solution\n",
    "    ax = plt.gca()\n",
    "    scenario.add_to_plot(ax)\n",
    "    plt.scatter(*x[:2,:])\n",
    "    plt.show()"
   ]
  }
 ],
 "metadata": {
  "kernelspec": {
   "display_name": "base",
   "language": "python",
   "name": "python3"
  },
  "language_info": {
   "codemirror_mode": {
    "name": "ipython",
    "version": 3
   },
   "file_extension": ".py",
   "mimetype": "text/x-python",
   "name": "python",
   "nbconvert_exporter": "python",
   "pygments_lexer": "ipython3",
   "version": "3.9.12"
  }
 },
 "nbformat": 4,
 "nbformat_minor": 2
}
