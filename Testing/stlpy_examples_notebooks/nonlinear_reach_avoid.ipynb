{
 "cells": [
  {
   "cell_type": "code",
   "execution_count": 2,
   "metadata": {},
   "outputs": [
    {
     "name": "stdout",
     "output_type": "stream",
     "text": [
      "WARNING: pydrake import failed, Drake-based solvers disabled.\n",
      "         Install drake (https://drake.mit.edu/installation.html)\n",
      "         to use the Drake-based solvers.\n"
     ]
    }
   ],
   "source": [
    "import numpy as np\n",
    "import matplotlib.pyplot as plt\n",
    "\n",
    "from stlpy.benchmarks import NonlinearReachAvoid\n",
    "from stlpy.solvers import *"
   ]
  },
  {
   "cell_type": "code",
   "execution_count": 3,
   "metadata": {},
   "outputs": [],
   "source": [
    "# Specification Parameters\n",
    "goal = (7.5, 8.5)  # goal center and radius\n",
    "goal_rad = 0.75\n",
    "obs = (3.5, 5)     # obstacle center and radius\n",
    "obs_rad = 1.5\n",
    "T = 15\n",
    "\n",
    "# Define the system and specification\n",
    "scenario = NonlinearReachAvoid(goal, goal_rad, obs, obs_rad, T)\n",
    "spec = scenario.GetSpecification()\n",
    "sys = scenario.GetSystem()\n",
    "\n",
    "# Specify any additional running cost (this helps the numerics in\n",
    "# a gradient-based method)\n",
    "Q = np.diag([0,0,0])\n",
    "R = 1e-3*np.eye(2)\n",
    "\n",
    "# Initial state\n",
    "x0 = np.array([1.0,2.0,0])"
   ]
  },
  {
   "cell_type": "code",
   "execution_count": 5,
   "metadata": {},
   "outputs": [
    {
     "name": "stdout",
     "output_type": "stream",
     "text": [
      "Optimization terminated successfully\n",
      "Solve Time:  0.5317032337188721\n",
      "Optimal robustness:  0.5542115010517382\n"
     ]
    }
   ],
   "source": [
    "# Choose a solver\n",
    "#solver = DrakeSmoothSolver(spec, sys, x0, T, k=2.0)\n",
    "solver = ScipyGradientSolver(spec, sys, x0, T)\n",
    "\n",
    "# Set bounds on state and control variables\n",
    "u_min = np.array([0,-5.0])\n",
    "u_max = np.array([10, 5.0])\n",
    "x_min = np.array([-10.0, -10.0, -2*np.pi])\n",
    "x_max = np.array([10.0, 10.0, 2*np.pi])\n",
    "#solver.AddControlBounds(u_min, u_max)\n",
    "#solver.AddStateBounds(x_min, x_max)\n",
    "\n",
    "# Add quadratic running cost (optional)\n",
    "solver.AddQuadraticCost(Q,R)\n",
    "\n",
    "# Solve the optimization problem\n",
    "x, u, _, _ = solver.Solve()"
   ]
  },
  {
   "cell_type": "code",
   "execution_count": 6,
   "metadata": {},
   "outputs": [
    {
     "data": {
      "image/png": "[encoded data removed]",
      "text/plain": [
       "<Figure size 640x480 with 1 Axes>"
      ]
     },
     "metadata": {},
     "output_type": "display_data"
    }
   ],
   "source": [
    "\n",
    "if x is not None:\n",
    "    # Plot the solution\n",
    "    ax = plt.gca()\n",
    "    scenario.add_to_plot(ax)\n",
    "    plt.scatter(*x[:2,:])\n",
    "    plt.show()"
   ]
  }
 ],
 "metadata": {
  "kernelspec": {
   "display_name": "base",
   "language": "python",
   "name": "python3"
  },
  "language_info": {
   "codemirror_mode": {
    "name": "ipython",
    "version": 3
   },
   "file_extension": ".py",
   "mimetype": "text/x-python",
   "name": "python",
   "nbconvert_exporter": "python",
   "pygments_lexer": "ipython3",
   "version": "3.9.12"
  }
 },
 "nbformat": 4,
 "nbformat_minor": 2
}
