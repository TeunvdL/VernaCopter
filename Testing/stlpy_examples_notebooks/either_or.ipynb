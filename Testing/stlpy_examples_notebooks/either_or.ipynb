{
 "cells": [
  {
   "cell_type": "code",
   "execution_count": 1,
   "metadata": {},
   "outputs": [
    {
     "name": "stdout",
     "output_type": "stream",
     "text": [
      "WARNING: pydrake import failed, Drake-based solvers disabled.\n",
      "         Install drake (https://drake.mit.edu/installation.html)\n",
      "         to use the Drake-based solvers.\n"
     ]
    }
   ],
   "source": [
    "import numpy as np\n",
    "import matplotlib.pyplot as plt\n",
    "from stlpy.benchmarks import EitherOr\n",
    "from stlpy.solvers import *"
   ]
  },
  {
   "cell_type": "code",
   "execution_count": 2,
   "metadata": {},
   "outputs": [],
   "source": [
    "\n",
    "# Specification Parameters\n",
    "goal = (7,8,8,9)     # (xmin, xmax, ymin, ymax)\n",
    "target_one = (1,2,6,7)\n",
    "target_two = (7,8,4.5,5.5)\n",
    "obstacle = (3,5,4,6)\n",
    "T = 20\n",
    "dwell_time = 5\n",
    "\n",
    "# Create the specification\n",
    "scenario = EitherOr(goal, target_one, target_two, obstacle, T, dwell_time)\n",
    "spec = scenario.GetSpecification()\n",
    "spec.simplify()\n",
    "sys = scenario.GetSystem()\n",
    "\n",
    "# Specify any additional running cost\n",
    "Q = 1e-1*np.diag([0,0,1,1])   # just penalize high velocities\n",
    "R = 1e-0*np.eye(2)\n",
    "\n",
    "# Initial state\n",
    "x0 = np.array([2.0,2.0,0,0])\n"
   ]
  },
  {
   "cell_type": "code",
   "execution_count": 3,
   "metadata": {},
   "outputs": [
    {
     "name": "stdout",
     "output_type": "stream",
     "text": [
      "Set parameter Username\n",
      "Academic license - for non-commercial use only - expires 2024-11-29\n",
      "Setting up optimization problem...\n",
      "Setup complete in 2.2859246730804443 seconds.\n",
      "<class 'gurobipy.MQuadExpr'>\n",
      "Gurobi Optimizer version 10.0.3 build v10.0.3rc0 (win64)\n",
      "\n",
      "CPU model: 11th Gen Intel(R) Core(TM) i7-11800H @ 2.30GHz, instruction set [SSE2|AVX|AVX2|AVX512]\n",
      "Thread count: 8 physical cores, 16 logical processors, using up to 16 threads\n",
      "\n",
      "Optimize a model with 3234 rows, 2202 columns and 7340 nonzeros\n",
      "Model fingerprint: 0x6c43e0c0\n",
      "Model has 84 quadratic objective terms\n",
      "Variable types: 1266 continuous, 936 integer (936 binary)\n",
      "Coefficient statistics:\n",
      "  Matrix range     [1e+00, 1e+03]\n",
      "  Objective range  [1e+00, 1e+00]\n",
      "  QObjective range [2e-01, 2e+00]\n",
      "  Bounds range     [1e+00, 1e+00]\n",
      "  RHS range        [5e-01, 1e+03]\n",
      "Presolve removed 2646 rows and 1995 columns\n",
      "Presolve time: 0.01s\n",
      "Presolved: 588 rows, 207 columns, 1801 nonzeros\n",
      "Presolved model has 80 quadratic objective terms\n",
      "Variable types: 115 continuous, 92 integer (92 binary)\n",
      "Found heuristic solution: objective 2.4538986\n",
      "Found heuristic solution: objective 2.1940167\n",
      "\n",
      "Root relaxation: objective -2.000000e+00, 165 iterations, 0.00 seconds (0.00 work units)\n",
      "\n",
      "    Nodes    |    Current Node    |     Objective Bounds      |     Work\n",
      " Expl Unexpl |  Obj  Depth IntInf | Incumbent    BestBd   Gap | It/Node Time\n",
      "\n",
      "     0     0   -2.00000    0   10    2.19402   -2.00000   191%     -    0s\n",
      "H    0     0                       1.0483002   -2.00000   291%     -    0s\n",
      "     0     0   -2.00000    0   47    1.04830   -2.00000   291%     -    0s\n",
      "     0     0   -1.88786    0   57    1.04830   -1.88786   280%     -    0s\n",
      "     0     0   -1.67494    0   60    1.04830   -1.67494   260%     -    0s\n",
      "     0     0   -1.51000    0   60    1.04830   -1.51000   244%     -    0s\n",
      "     0     0    0.07044    0   52    1.04830    0.07044  93.3%     -    0s\n",
      "H    0     0                       0.9203893    0.07044  92.3%     -    0s\n",
      "     0     0    0.22256    0   54    0.92039    0.22256  75.8%     -    0s\n",
      "     0     0    0.41042    0   54    0.92039    0.41042  55.4%     -    0s\n",
      "     0     0    0.61962    0   50    0.92039    0.61962  32.7%     -    0s\n",
      "     0     2    0.61962    0   50    0.92039    0.61962  32.7%     -    0s\n",
      "*   29     7               8       0.8989832    0.61962  31.1%  17.9    0s\n",
      "H   33     7                       0.7985735    0.61962  22.4%  16.6    0s\n",
      "H   61    16                       0.7892605    0.61962  21.5%  11.7    0s\n",
      "\n",
      "Cutting planes:\n",
      "  Learned: 1\n",
      "  Cover: 13\n",
      "  Implied bound: 2\n",
      "  Clique: 10\n",
      "  MIR: 18\n",
      "  RLT: 4\n",
      "  Relax-and-lift: 10\n",
      "\n",
      "Explored 103 nodes (2460 simplex iterations) in 0.20 seconds (0.14 work units)\n",
      "Thread count was 16 (of 16 available processors)\n",
      "\n",
      "Solution count 7: 0.78926 0.798573 0.898983 ... 2.4539\n",
      "\n",
      "Optimal solution found (tolerance 1.00e-04)\n",
      "Best objective 7.892604818199e-01, best bound 7.892604818199e-01, gap 0.0000%\n",
      "\n",
      "Optimal Solution Found!\n",
      "\n",
      "Solve time:  0.2049999237060547\n",
      "Optimal robustness:  0.1684864512819737\n",
      "\n"
     ]
    }
   ],
   "source": [
    "\n",
    "# Specify a solution strategy\n",
    "solver = GurobiMICPSolver(spec, sys, x0, T, robustness_cost=True)\n",
    "#solver = DrakeMICPSolver(spec, sys, x0, T, robustness_cost=True)\n",
    "#solver = DrakeSos1Solver(spec, sys, x0, T, robustness_cost=True)\n",
    "\n",
    "# Set bounds on state and control variables\n",
    "u_min = np.array([-0.5,-0.5])\n",
    "u_max = np.array([0.5, 0.5])\n",
    "x_min = np.array([0.0, 0.0, -1.0, -1.0])\n",
    "x_max = np.array([10.0, 10.0, 1.0, 1.0])\n",
    "solver.AddControlBounds(u_min, u_max)\n",
    "solver.AddStateBounds(x_min, x_max)\n",
    "\n",
    "# Add quadratic running cost (optional)\n",
    "solver.AddQuadraticCost(Q,R)\n",
    "\n",
    "# Solve the optimization problem\n",
    "x, u, _, _ = solver.Solve()\n"
   ]
  },
  {
   "cell_type": "code",
   "execution_count": 4,
   "metadata": {},
   "outputs": [
    {
     "data": {
      "image/png": "[encoded data removed]",
      "text/plain": [
       "<Figure size 640x480 with 1 Axes>"
      ]
     },
     "metadata": {},
     "output_type": "display_data"
    }
   ],
   "source": [
    "\n",
    "if x is not None:\n",
    "    # Plot the solution\n",
    "    ax = plt.gca()\n",
    "    scenario.add_to_plot(ax)\n",
    "    plt.scatter(*x[:2,:])\n",
    "    plt.show()"
   ]
  }
 ],
 "metadata": {
  "kernelspec": {
   "display_name": "base",
   "language": "python",
   "name": "python3"
  },
  "language_info": {
   "codemirror_mode": {
    "name": "ipython",
    "version": 3
   },
   "file_extension": ".py",
   "mimetype": "text/x-python",
   "name": "python",
   "nbconvert_exporter": "python",
   "pygments_lexer": "ipython3",
   "version": "3.9.12"
  }
 },
 "nbformat": 4,
 "nbformat_minor": 2
}
