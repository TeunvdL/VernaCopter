{
 "cells": [
  {
   "cell_type": "code",
   "execution_count": 1,
   "metadata": {},
   "outputs": [
    {
     "name": "stdout",
     "output_type": "stream",
     "text": [
      "WARNING: pydrake import failed, Drake-based solvers disabled.\n",
      "         Install drake (https://drake.mit.edu/installation.html)\n",
      "         to use the Drake-based solvers.\n"
     ]
    }
   ],
   "source": [
    "import numpy as np\n",
    "import matplotlib.pyplot as plt\n",
    "from stlpy.benchmarks import DoorPuzzle\n",
    "from stlpy.solvers import *"
   ]
  },
  {
   "cell_type": "code",
   "execution_count": 2,
   "metadata": {},
   "outputs": [],
   "source": [
    "# Specification Parameters\n",
    "T = 25\n",
    "N_pairs = 2\n",
    "\n",
    "# Create the specification and system\n",
    "scenario = DoorPuzzle(T, N_pairs)\n",
    "spec = scenario.GetSpecification()\n",
    "spec.simplify()\n",
    "sys = scenario.GetSystem()\n",
    "\n",
    "# Specify any additional running cost (this helps the numerics in\n",
    "# a gradient-based method)\n",
    "Q = 1e-1*np.diag([0,0,1,1])   # just penalize high velocities\n",
    "R = 1e-1*np.eye(2)\n",
    "\n",
    "# Initial state\n",
    "x0 = np.array([6.0,1.0,0,0])"
   ]
  },
  {
   "cell_type": "code",
   "execution_count": 3,
   "metadata": {},
   "outputs": [
    {
     "name": "stdout",
     "output_type": "stream",
     "text": [
      "Set parameter Username\n",
      "Academic license - for non-commercial use only - expires 2024-11-29\n",
      "Setting up optimization problem...\n",
      "Setup complete in 8.390576601028442 seconds.\n",
      "<class 'gurobipy.MQuadExpr'>\n",
      "Gurobi Optimizer version 10.0.3 build v10.0.3rc0 (win64)\n",
      "\n",
      "CPU model: 11th Gen Intel(R) Core(TM) i7-11800H @ 2.30GHz, instruction set [SSE2|AVX|AVX2|AVX512]\n",
      "Thread count: 8 physical cores, 16 logical processors, using up to 16 threads\n",
      "\n",
      "Optimize a model with 9316 rows, 8039 columns and 24261 nonzeros\n",
      "Model fingerprint: 0x5e538702\n",
      "Model has 104 quadratic objective terms\n",
      "Variable types: 4607 continuous, 3432 integer (3432 binary)\n",
      "Coefficient statistics:\n",
      "  Matrix range     [1e+00, 1e+03]\n",
      "  Objective range  [0e+00, 0e+00]\n",
      "  QObjective range [2e-03, 2e-03]\n",
      "  Bounds range     [1e+00, 1e+00]\n",
      "  RHS range        [5e-01, 1e+03]\n",
      "Presolve removed 6762 rows and 6102 columns\n",
      "Presolve time: 0.03s\n",
      "Presolved: 2554 rows, 1937 columns, 6442 nonzeros\n",
      "Presolved model has 100 quadratic objective terms\n",
      "Variable types: 144 continuous, 1793 integer (1793 binary)\n",
      "\n",
      "Root relaxation: objective 0.000000e+00, 641 iterations, 0.01 seconds (0.01 work units)\n",
      "\n",
      "    Nodes    |    Current Node    |     Objective Bounds      |     Work\n",
      " Expl Unexpl |  Obj  Depth IntInf | Incumbent    BestBd   Gap | It/Node Time\n",
      "\n",
      "     0     0    0.00000    0  146          -    0.00000      -     -    0s\n",
      "     0     0    0.00000    0  151          -    0.00000      -     -    0s\n",
      "     0     0    0.00000    0  216          -    0.00000      -     -    0s\n",
      "     0     0    0.00000    0  225          -    0.00000      -     -    0s\n",
      "     0     0    0.00000    0  238          -    0.00000      -     -    0s\n",
      "     0     0    0.00000    0  235          -    0.00000      -     -    0s\n",
      "H    0     0                       0.0450960    0.00000   100%     -    0s\n",
      "H    0     0                       0.0444917    0.00000   100%     -    0s\n",
      "     0     0    0.00000    0  267    0.04449    0.00000   100%     -    0s\n",
      "     0     0    0.00000    0  273    0.04449    0.00000   100%     -    0s\n",
      "     0     0    0.00000    0  211    0.04449    0.00000   100%     -    0s\n",
      "     0     2    0.00001    0  211    0.04449    0.00001   100%     -    0s\n",
      "H   35    32                       0.0444753    0.00001   100%  62.8    0s\n",
      "H   64    72                       0.0444753    0.00001   100%  41.9    0s\n",
      "H   68    72                       0.0444753    0.00001   100%  40.6    0s\n",
      "H   70    72                       0.0444753    0.00001   100%  39.6    0s\n",
      "H   74    72                       0.0444753    0.00001   100%  37.9    0s\n",
      "H   79    87                       0.0444011    0.00001   100%  36.3    0s\n",
      "H   89    87                       0.0402482    0.00001   100%  34.0    0s\n",
      "H  120   129                       0.0394586    0.00001   100%  26.4    0s\n",
      "H  179   194                       0.0390431    0.00001   100%  23.1    0s\n",
      "H  195   194                       0.0390150    0.00001   100%  22.0    0s\n",
      "H  197   194                       0.0377510    0.00001   100%  22.7    0s\n",
      "H  249   223                       0.0377417    0.00001   100%  22.5    0s\n",
      "H  250   223                       0.0377261    0.00001   100%  22.5    0s\n",
      "H  327   292                       0.0377238    0.00001   100%  20.5    0s\n",
      "H  585   428                       0.0280076    0.00001   100%  20.6    0s\n",
      "H  869   506                       0.0278539    0.00001   100%  19.2    0s\n",
      "H  869   498                       0.0276882    0.00001   100%  19.2    0s\n",
      "\n",
      "Cutting planes:\n",
      "  Learned: 47\n",
      "  Cover: 19\n",
      "  Clique: 3\n",
      "  MIR: 2\n",
      "  Flow cover: 2\n",
      "  Zero half: 1\n",
      "  Relax-and-lift: 15\n",
      "\n",
      "Explored 8305 nodes (196845 simplex iterations) in 4.52 seconds (5.04 work units)\n",
      "Thread count was 16 (of 16 available processors)\n",
      "\n",
      "Solution count 10: 0.0276882 0.0278539 0.0280076 ... 0.0394586\n",
      "\n",
      "Optimal solution found (tolerance 1.00e-04)\n",
      "Best objective 2.768815675275e-02, best bound 2.768815675275e-02, gap 0.0000%\n",
      "\n",
      "Optimal Solution Found!\n",
      "\n",
      "Solve time:  4.527000188827515\n",
      "Optimal robustness:  0.0\n",
      "\n"
     ]
    }
   ],
   "source": [
    "# Define the solver\n",
    "solver = GurobiMICPSolver(spec, sys, x0, T, robustness_cost=False)\n",
    "#solver = DrakeMICPSolver(spec, sys, x0, T, robustness_cost=True)\n",
    "#solver = DrakeSos1Solver(spec, sys, x0, T, robustness_cost=True)\n",
    "\n",
    "# Set bounds on state and control variables\n",
    "u_min = np.array([-0.5,-0.5])\n",
    "u_max = np.array([0.5, 0.5])\n",
    "x_min = np.array([0.0, 0.0, -2.0, -2.0])\n",
    "x_max = np.array([15.0, 10.0, 2.0, 2.0])\n",
    "solver.AddControlBounds(u_min, u_max)\n",
    "solver.AddStateBounds(x_min, x_max)\n",
    "\n",
    "# Add quadratic running cost (optional)\n",
    "solver.AddQuadraticCost(0.01*Q,0.01*R)\n",
    "\n",
    "# Solve the optimization problem\n",
    "x, u, _, _ = solver.Solve()"
   ]
  },
  {
   "cell_type": "code",
   "execution_count": 4,
   "metadata": {},
   "outputs": [
    {
     "data": {
      "image/png": "[encoded data removed]",
      "text/plain": [
       "<Figure size 640x480 with 1 Axes>"
      ]
     },
     "metadata": {},
     "output_type": "display_data"
    }
   ],
   "source": [
    "if x is not None:\n",
    "    # Plot the solution\n",
    "    ax = plt.gca()\n",
    "    scenario.add_to_plot(ax)\n",
    "    plt.scatter(*x[:2,:])\n",
    "    plt.show()"
   ]
  }
 ],
 "metadata": {
  "kernelspec": {
   "display_name": "base",
   "language": "python",
   "name": "python3"
  },
  "language_info": {
   "codemirror_mode": {
    "name": "ipython",
    "version": 3
   },
   "file_extension": ".py",
   "mimetype": "text/x-python",
   "name": "python",
   "nbconvert_exporter": "python",
   "pygments_lexer": "ipython3",
   "version": "3.9.12"
  }
 },
 "nbformat": 4,
 "nbformat_minor": 2
}
